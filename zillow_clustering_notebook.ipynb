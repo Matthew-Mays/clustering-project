{
 "cells": [
  {
   "cell_type": "code",
   "execution_count": 1,
   "metadata": {},
   "outputs": [],
   "source": [
    "from acquire import acquire_zillow_data\n",
    "from prepare import missing_rows, drop_missing_columns, drop_selected_columns, zillow_dummies, zillow_split, zillow_scaler\n",
    "from sklearn.cluster import KMeans\n",
    "from sklearn.linear_model import LinearRegression, LassoLars\n",
    "from sklearn.metrics import mean_squared_error\n",
    "from sklearn.feature_selection import RFE\n",
    "\n",
    "import numpy as np\n",
    "import scipy.stats as stats\n",
    "import seaborn as sns\n",
    "import matplotlib.pyplot as plt\n",
    "import pandas as pd\n",
    "\n",
    "import warnings\n",
    "warnings.filterwarnings(\"ignore\")"
   ]
  },
  {
   "cell_type": "markdown",
   "metadata": {},
   "source": [
    "# Zillow Clustering Project"
   ]
  },
  {
   "cell_type": "markdown",
   "metadata": {},
   "source": [
    "## Acquire"
   ]
  },
  {
   "cell_type": "markdown",
   "metadata": {},
   "source": [
    "Using the acquire_zillow_data function in my acqiure.py file we can get a dataframe of all 2017 properties."
   ]
  },
  {
   "cell_type": "code",
   "execution_count": 2,
   "metadata": {},
   "outputs": [],
   "source": [
    "df = acquire_zillow_data()"
   ]
  },
  {
   "cell_type": "code",
   "execution_count": 3,
   "metadata": {},
   "outputs": [
    {
     "data": {
      "text/html": [
       "<div>\n",
       "<style scoped>\n",
       "    .dataframe tbody tr th:only-of-type {\n",
       "        vertical-align: middle;\n",
       "    }\n",
       "\n",
       "    .dataframe tbody tr th {\n",
       "        vertical-align: top;\n",
       "    }\n",
       "\n",
       "    .dataframe thead th {\n",
       "        text-align: right;\n",
       "    }\n",
       "</style>\n",
       "<table border=\"1\" class=\"dataframe\">\n",
       "  <thead>\n",
       "    <tr style=\"text-align: right;\">\n",
       "      <th></th>\n",
       "      <th>parcelid</th>\n",
       "      <th>typeconstructiontypeid</th>\n",
       "      <th>storytypeid</th>\n",
       "      <th>propertylandusetypeid</th>\n",
       "      <th>heatingorsystemtypeid</th>\n",
       "      <th>buildingclasstypeid</th>\n",
       "      <th>architecturalstyletypeid</th>\n",
       "      <th>airconditioningtypeid</th>\n",
       "      <th>id</th>\n",
       "      <th>basementsqft</th>\n",
       "      <th>...</th>\n",
       "      <th>id.1</th>\n",
       "      <th>logerror</th>\n",
       "      <th>transactiondate</th>\n",
       "      <th>airconditioningdesc</th>\n",
       "      <th>architecturalstyledesc</th>\n",
       "      <th>buildingclassdesc</th>\n",
       "      <th>heatingorsystemdesc</th>\n",
       "      <th>propertylandusedesc</th>\n",
       "      <th>storydesc</th>\n",
       "      <th>typeconstructiondesc</th>\n",
       "    </tr>\n",
       "  </thead>\n",
       "  <tbody>\n",
       "    <tr>\n",
       "      <th>0</th>\n",
       "      <td>14297519</td>\n",
       "      <td>NaN</td>\n",
       "      <td>NaN</td>\n",
       "      <td>261.0</td>\n",
       "      <td>NaN</td>\n",
       "      <td>NaN</td>\n",
       "      <td>NaN</td>\n",
       "      <td>NaN</td>\n",
       "      <td>1727539</td>\n",
       "      <td>NaN</td>\n",
       "      <td>...</td>\n",
       "      <td>0</td>\n",
       "      <td>0.025595</td>\n",
       "      <td>2017-01-01</td>\n",
       "      <td>NaN</td>\n",
       "      <td>NaN</td>\n",
       "      <td>NaN</td>\n",
       "      <td>NaN</td>\n",
       "      <td>Single Family Residential</td>\n",
       "      <td>NaN</td>\n",
       "      <td>NaN</td>\n",
       "    </tr>\n",
       "    <tr>\n",
       "      <th>1</th>\n",
       "      <td>17052889</td>\n",
       "      <td>NaN</td>\n",
       "      <td>NaN</td>\n",
       "      <td>261.0</td>\n",
       "      <td>NaN</td>\n",
       "      <td>NaN</td>\n",
       "      <td>NaN</td>\n",
       "      <td>NaN</td>\n",
       "      <td>1387261</td>\n",
       "      <td>NaN</td>\n",
       "      <td>...</td>\n",
       "      <td>1</td>\n",
       "      <td>0.055619</td>\n",
       "      <td>2017-01-01</td>\n",
       "      <td>NaN</td>\n",
       "      <td>NaN</td>\n",
       "      <td>NaN</td>\n",
       "      <td>NaN</td>\n",
       "      <td>Single Family Residential</td>\n",
       "      <td>NaN</td>\n",
       "      <td>NaN</td>\n",
       "    </tr>\n",
       "    <tr>\n",
       "      <th>2</th>\n",
       "      <td>14186244</td>\n",
       "      <td>NaN</td>\n",
       "      <td>NaN</td>\n",
       "      <td>261.0</td>\n",
       "      <td>NaN</td>\n",
       "      <td>NaN</td>\n",
       "      <td>NaN</td>\n",
       "      <td>NaN</td>\n",
       "      <td>11677</td>\n",
       "      <td>NaN</td>\n",
       "      <td>...</td>\n",
       "      <td>2</td>\n",
       "      <td>0.005383</td>\n",
       "      <td>2017-01-01</td>\n",
       "      <td>NaN</td>\n",
       "      <td>NaN</td>\n",
       "      <td>NaN</td>\n",
       "      <td>NaN</td>\n",
       "      <td>Single Family Residential</td>\n",
       "      <td>NaN</td>\n",
       "      <td>NaN</td>\n",
       "    </tr>\n",
       "    <tr>\n",
       "      <th>3</th>\n",
       "      <td>12177905</td>\n",
       "      <td>NaN</td>\n",
       "      <td>NaN</td>\n",
       "      <td>261.0</td>\n",
       "      <td>2.0</td>\n",
       "      <td>NaN</td>\n",
       "      <td>NaN</td>\n",
       "      <td>NaN</td>\n",
       "      <td>2288172</td>\n",
       "      <td>NaN</td>\n",
       "      <td>...</td>\n",
       "      <td>3</td>\n",
       "      <td>-0.103410</td>\n",
       "      <td>2017-01-01</td>\n",
       "      <td>NaN</td>\n",
       "      <td>NaN</td>\n",
       "      <td>NaN</td>\n",
       "      <td>Central</td>\n",
       "      <td>Single Family Residential</td>\n",
       "      <td>NaN</td>\n",
       "      <td>NaN</td>\n",
       "    </tr>\n",
       "    <tr>\n",
       "      <th>4</th>\n",
       "      <td>10887214</td>\n",
       "      <td>NaN</td>\n",
       "      <td>NaN</td>\n",
       "      <td>266.0</td>\n",
       "      <td>2.0</td>\n",
       "      <td>NaN</td>\n",
       "      <td>NaN</td>\n",
       "      <td>1.0</td>\n",
       "      <td>1970746</td>\n",
       "      <td>NaN</td>\n",
       "      <td>...</td>\n",
       "      <td>4</td>\n",
       "      <td>0.006940</td>\n",
       "      <td>2017-01-01</td>\n",
       "      <td>Central</td>\n",
       "      <td>NaN</td>\n",
       "      <td>NaN</td>\n",
       "      <td>Central</td>\n",
       "      <td>Condominium</td>\n",
       "      <td>NaN</td>\n",
       "      <td>NaN</td>\n",
       "    </tr>\n",
       "  </tbody>\n",
       "</table>\n",
       "<p>5 rows × 69 columns</p>\n",
       "</div>"
      ],
      "text/plain": [
       "   parcelid  typeconstructiontypeid  storytypeid  propertylandusetypeid  \\\n",
       "0  14297519                     NaN          NaN                  261.0   \n",
       "1  17052889                     NaN          NaN                  261.0   \n",
       "2  14186244                     NaN          NaN                  261.0   \n",
       "3  12177905                     NaN          NaN                  261.0   \n",
       "4  10887214                     NaN          NaN                  266.0   \n",
       "\n",
       "   heatingorsystemtypeid  buildingclasstypeid  architecturalstyletypeid  \\\n",
       "0                    NaN                  NaN                       NaN   \n",
       "1                    NaN                  NaN                       NaN   \n",
       "2                    NaN                  NaN                       NaN   \n",
       "3                    2.0                  NaN                       NaN   \n",
       "4                    2.0                  NaN                       NaN   \n",
       "\n",
       "   airconditioningtypeid       id  basementsqft  ...  id.1  logerror  \\\n",
       "0                    NaN  1727539           NaN  ...     0  0.025595   \n",
       "1                    NaN  1387261           NaN  ...     1  0.055619   \n",
       "2                    NaN    11677           NaN  ...     2  0.005383   \n",
       "3                    NaN  2288172           NaN  ...     3 -0.103410   \n",
       "4                    1.0  1970746           NaN  ...     4  0.006940   \n",
       "\n",
       "   transactiondate  airconditioningdesc  architecturalstyledesc  \\\n",
       "0       2017-01-01                  NaN                     NaN   \n",
       "1       2017-01-01                  NaN                     NaN   \n",
       "2       2017-01-01                  NaN                     NaN   \n",
       "3       2017-01-01                  NaN                     NaN   \n",
       "4       2017-01-01              Central                     NaN   \n",
       "\n",
       "   buildingclassdesc  heatingorsystemdesc        propertylandusedesc  \\\n",
       "0                NaN                  NaN  Single Family Residential   \n",
       "1                NaN                  NaN  Single Family Residential   \n",
       "2                NaN                  NaN  Single Family Residential   \n",
       "3                NaN              Central  Single Family Residential   \n",
       "4                NaN              Central                Condominium   \n",
       "\n",
       "   storydesc  typeconstructiondesc  \n",
       "0        NaN                   NaN  \n",
       "1        NaN                   NaN  \n",
       "2        NaN                   NaN  \n",
       "3        NaN                   NaN  \n",
       "4        NaN                   NaN  \n",
       "\n",
       "[5 rows x 69 columns]"
      ]
     },
     "execution_count": 3,
     "metadata": {},
     "output_type": "execute_result"
    }
   ],
   "source": [
    "df.head()"
   ]
  },
  {
   "cell_type": "markdown",
   "metadata": {},
   "source": [
    "### Acquire Takeaways  \n",
    "* There are a lot of null values and many columns to either drop or fill."
   ]
  },
  {
   "cell_type": "markdown",
   "metadata": {},
   "source": [
    "## Prepare"
   ]
  },
  {
   "cell_type": "code",
   "execution_count": 4,
   "metadata": {},
   "outputs": [
    {
     "name": "stdout",
     "output_type": "stream",
     "text": [
      "<class 'pandas.core.frame.DataFrame'>\n",
      "RangeIndex: 77580 entries, 0 to 77579\n",
      "Data columns (total 69 columns):\n",
      " #   Column                        Non-Null Count  Dtype  \n",
      "---  ------                        --------------  -----  \n",
      " 0   parcelid                      77580 non-null  int64  \n",
      " 1   typeconstructiontypeid        223 non-null    float64\n",
      " 2   storytypeid                   50 non-null     float64\n",
      " 3   propertylandusetypeid         77580 non-null  float64\n",
      " 4   heatingorsystemtypeid         49572 non-null  float64\n",
      " 5   buildingclasstypeid           15 non-null     float64\n",
      " 6   architecturalstyletypeid      207 non-null    float64\n",
      " 7   airconditioningtypeid         25007 non-null  float64\n",
      " 8   id                            77580 non-null  int64  \n",
      " 9   basementsqft                  50 non-null     float64\n",
      " 10  bathroomcnt                   77580 non-null  float64\n",
      " 11  bedroomcnt                    77580 non-null  float64\n",
      " 12  buildingqualitytypeid         49810 non-null  float64\n",
      " 13  calculatedbathnbr             76964 non-null  float64\n",
      " 14  decktypeid                    614 non-null    float64\n",
      " 15  finishedfloor1squarefeet      6037 non-null   float64\n",
      " 16  calculatedfinishedsquarefeet  77379 non-null  float64\n",
      " 17  finishedsquarefeet12          73924 non-null  float64\n",
      " 18  finishedsquarefeet13          42 non-null     float64\n",
      " 19  finishedsquarefeet15          3027 non-null   float64\n",
      " 20  finishedsquarefeet50          6037 non-null   float64\n",
      " 21  finishedsquarefeet6           386 non-null    float64\n",
      " 22  fips                          77580 non-null  float64\n",
      " 23  fireplacecnt                  8289 non-null   float64\n",
      " 24  fullbathcnt                   76964 non-null  float64\n",
      " 25  garagecarcnt                  25520 non-null  float64\n",
      " 26  garagetotalsqft               25520 non-null  float64\n",
      " 27  hashottuborspa                1539 non-null   float64\n",
      " 28  latitude                      77580 non-null  float64\n",
      " 29  longitude                     77580 non-null  float64\n",
      " 30  lotsizesquarefeet             69322 non-null  float64\n",
      " 31  poolcnt                       16174 non-null  float64\n",
      " 32  poolsizesum                   869 non-null    float64\n",
      " 33  pooltypeid10                  465 non-null    float64\n",
      " 34  pooltypeid2                   1074 non-null   float64\n",
      " 35  pooltypeid7                   15079 non-null  float64\n",
      " 36  propertycountylandusecode     77580 non-null  object \n",
      " 37  propertyzoningdesc            50477 non-null  object \n",
      " 38  rawcensustractandblock        77580 non-null  float64\n",
      " 39  regionidcity                  76108 non-null  float64\n",
      " 40  regionidcounty                77580 non-null  float64\n",
      " 41  regionidneighborhood          30974 non-null  float64\n",
      " 42  regionidzip                   77530 non-null  float64\n",
      " 43  roomcnt                       77580 non-null  float64\n",
      " 44  threequarterbathnbr           10106 non-null  float64\n",
      " 45  unitcnt                       50704 non-null  float64\n",
      " 46  yardbuildingsqft17            2393 non-null   float64\n",
      " 47  yardbuildingsqft26            70 non-null     float64\n",
      " 48  yearbuilt                     77310 non-null  float64\n",
      " 49  numberofstories               17599 non-null  float64\n",
      " 50  fireplaceflag                 172 non-null    float64\n",
      " 51  structuretaxvaluedollarcnt    77465 non-null  float64\n",
      " 52  taxvaluedollarcnt             77579 non-null  float64\n",
      " 53  assessmentyear                77580 non-null  float64\n",
      " 54  landtaxvaluedollarcnt         77578 non-null  float64\n",
      " 55  taxamount                     77575 non-null  float64\n",
      " 56  taxdelinquencyflag            2900 non-null   object \n",
      " 57  taxdelinquencyyear            2900 non-null   float64\n",
      " 58  censustractandblock           77333 non-null  float64\n",
      " 59  id.1                          77580 non-null  int64  \n",
      " 60  logerror                      77580 non-null  float64\n",
      " 61  transactiondate               77580 non-null  object \n",
      " 62  airconditioningdesc           25007 non-null  object \n",
      " 63  architecturalstyledesc        207 non-null    object \n",
      " 64  buildingclassdesc             15 non-null     object \n",
      " 65  heatingorsystemdesc           49572 non-null  object \n",
      " 66  propertylandusedesc           77580 non-null  object \n",
      " 67  storydesc                     50 non-null     object \n",
      " 68  typeconstructiondesc          223 non-null    object \n",
      "dtypes: float64(55), int64(3), object(11)\n",
      "memory usage: 40.8+ MB\n"
     ]
    }
   ],
   "source": [
    "df.info()"
   ]
  },
  {
   "cell_type": "code",
   "execution_count": 5,
   "metadata": {
    "scrolled": true
   },
   "outputs": [
    {
     "data": {
      "text/html": [
       "<div>\n",
       "<style scoped>\n",
       "    .dataframe tbody tr th:only-of-type {\n",
       "        vertical-align: middle;\n",
       "    }\n",
       "\n",
       "    .dataframe tbody tr th {\n",
       "        vertical-align: top;\n",
       "    }\n",
       "\n",
       "    .dataframe thead th {\n",
       "        text-align: right;\n",
       "    }\n",
       "</style>\n",
       "<table border=\"1\" class=\"dataframe\">\n",
       "  <thead>\n",
       "    <tr style=\"text-align: right;\">\n",
       "      <th></th>\n",
       "      <th>num_rows_missing</th>\n",
       "      <th>pct_rows_missing</th>\n",
       "    </tr>\n",
       "  </thead>\n",
       "  <tbody>\n",
       "    <tr>\n",
       "      <th>parcelid</th>\n",
       "      <td>0</td>\n",
       "      <td>0.000000</td>\n",
       "    </tr>\n",
       "    <tr>\n",
       "      <th>typeconstructiontypeid</th>\n",
       "      <td>77357</td>\n",
       "      <td>99.712555</td>\n",
       "    </tr>\n",
       "    <tr>\n",
       "      <th>storytypeid</th>\n",
       "      <td>77530</td>\n",
       "      <td>99.935550</td>\n",
       "    </tr>\n",
       "    <tr>\n",
       "      <th>propertylandusetypeid</th>\n",
       "      <td>0</td>\n",
       "      <td>0.000000</td>\n",
       "    </tr>\n",
       "    <tr>\n",
       "      <th>heatingorsystemtypeid</th>\n",
       "      <td>28008</td>\n",
       "      <td>36.102088</td>\n",
       "    </tr>\n",
       "    <tr>\n",
       "      <th>...</th>\n",
       "      <td>...</td>\n",
       "      <td>...</td>\n",
       "    </tr>\n",
       "    <tr>\n",
       "      <th>buildingclassdesc</th>\n",
       "      <td>77565</td>\n",
       "      <td>99.980665</td>\n",
       "    </tr>\n",
       "    <tr>\n",
       "      <th>heatingorsystemdesc</th>\n",
       "      <td>28008</td>\n",
       "      <td>36.102088</td>\n",
       "    </tr>\n",
       "    <tr>\n",
       "      <th>propertylandusedesc</th>\n",
       "      <td>0</td>\n",
       "      <td>0.000000</td>\n",
       "    </tr>\n",
       "    <tr>\n",
       "      <th>storydesc</th>\n",
       "      <td>77530</td>\n",
       "      <td>99.935550</td>\n",
       "    </tr>\n",
       "    <tr>\n",
       "      <th>typeconstructiondesc</th>\n",
       "      <td>77357</td>\n",
       "      <td>99.712555</td>\n",
       "    </tr>\n",
       "  </tbody>\n",
       "</table>\n",
       "<p>69 rows × 2 columns</p>\n",
       "</div>"
      ],
      "text/plain": [
       "                        num_rows_missing  pct_rows_missing\n",
       "parcelid                               0          0.000000\n",
       "typeconstructiontypeid             77357         99.712555\n",
       "storytypeid                        77530         99.935550\n",
       "propertylandusetypeid                  0          0.000000\n",
       "heatingorsystemtypeid              28008         36.102088\n",
       "...                                  ...               ...\n",
       "buildingclassdesc                  77565         99.980665\n",
       "heatingorsystemdesc                28008         36.102088\n",
       "propertylandusedesc                    0          0.000000\n",
       "storydesc                          77530         99.935550\n",
       "typeconstructiondesc               77357         99.712555\n",
       "\n",
       "[69 rows x 2 columns]"
      ]
     },
     "execution_count": 5,
     "metadata": {},
     "output_type": "execute_result"
    }
   ],
   "source": [
    "missing_row_count = missing_rows(df)\n",
    "missing_row_count"
   ]
  },
  {
   "cell_type": "code",
   "execution_count": 6,
   "metadata": {},
   "outputs": [],
   "source": [
    "df = drop_missing_columns(df)"
   ]
  },
  {
   "cell_type": "code",
   "execution_count": 7,
   "metadata": {},
   "outputs": [
    {
     "data": {
      "text/html": [
       "<div>\n",
       "<style scoped>\n",
       "    .dataframe tbody tr th:only-of-type {\n",
       "        vertical-align: middle;\n",
       "    }\n",
       "\n",
       "    .dataframe tbody tr th {\n",
       "        vertical-align: top;\n",
       "    }\n",
       "\n",
       "    .dataframe thead th {\n",
       "        text-align: right;\n",
       "    }\n",
       "</style>\n",
       "<table border=\"1\" class=\"dataframe\">\n",
       "  <thead>\n",
       "    <tr style=\"text-align: right;\">\n",
       "      <th></th>\n",
       "      <th>parcelid</th>\n",
       "      <th>propertylandusetypeid</th>\n",
       "      <th>heatingorsystemtypeid</th>\n",
       "      <th>id</th>\n",
       "      <th>bathroomcnt</th>\n",
       "      <th>bedroomcnt</th>\n",
       "      <th>buildingqualitytypeid</th>\n",
       "      <th>calculatedbathnbr</th>\n",
       "      <th>calculatedfinishedsquarefeet</th>\n",
       "      <th>finishedsquarefeet12</th>\n",
       "      <th>...</th>\n",
       "      <th>taxvaluedollarcnt</th>\n",
       "      <th>assessmentyear</th>\n",
       "      <th>landtaxvaluedollarcnt</th>\n",
       "      <th>taxamount</th>\n",
       "      <th>censustractandblock</th>\n",
       "      <th>id.1</th>\n",
       "      <th>logerror</th>\n",
       "      <th>transactiondate</th>\n",
       "      <th>heatingorsystemdesc</th>\n",
       "      <th>propertylandusedesc</th>\n",
       "    </tr>\n",
       "  </thead>\n",
       "  <tbody>\n",
       "    <tr>\n",
       "      <th>0</th>\n",
       "      <td>14297519</td>\n",
       "      <td>261.0</td>\n",
       "      <td>NaN</td>\n",
       "      <td>1727539</td>\n",
       "      <td>3.5</td>\n",
       "      <td>4.0</td>\n",
       "      <td>NaN</td>\n",
       "      <td>3.5</td>\n",
       "      <td>3100.0</td>\n",
       "      <td>3100.0</td>\n",
       "      <td>...</td>\n",
       "      <td>1023282.0</td>\n",
       "      <td>2016.0</td>\n",
       "      <td>537569.0</td>\n",
       "      <td>11013.72</td>\n",
       "      <td>6.059063e+13</td>\n",
       "      <td>0</td>\n",
       "      <td>0.025595</td>\n",
       "      <td>2017-01-01</td>\n",
       "      <td>NaN</td>\n",
       "      <td>Single Family Residential</td>\n",
       "    </tr>\n",
       "    <tr>\n",
       "      <th>1</th>\n",
       "      <td>17052889</td>\n",
       "      <td>261.0</td>\n",
       "      <td>NaN</td>\n",
       "      <td>1387261</td>\n",
       "      <td>1.0</td>\n",
       "      <td>2.0</td>\n",
       "      <td>NaN</td>\n",
       "      <td>1.0</td>\n",
       "      <td>1465.0</td>\n",
       "      <td>1465.0</td>\n",
       "      <td>...</td>\n",
       "      <td>464000.0</td>\n",
       "      <td>2016.0</td>\n",
       "      <td>376000.0</td>\n",
       "      <td>5672.48</td>\n",
       "      <td>6.111001e+13</td>\n",
       "      <td>1</td>\n",
       "      <td>0.055619</td>\n",
       "      <td>2017-01-01</td>\n",
       "      <td>NaN</td>\n",
       "      <td>Single Family Residential</td>\n",
       "    </tr>\n",
       "    <tr>\n",
       "      <th>2</th>\n",
       "      <td>14186244</td>\n",
       "      <td>261.0</td>\n",
       "      <td>NaN</td>\n",
       "      <td>11677</td>\n",
       "      <td>2.0</td>\n",
       "      <td>3.0</td>\n",
       "      <td>NaN</td>\n",
       "      <td>2.0</td>\n",
       "      <td>1243.0</td>\n",
       "      <td>1243.0</td>\n",
       "      <td>...</td>\n",
       "      <td>564778.0</td>\n",
       "      <td>2016.0</td>\n",
       "      <td>479489.0</td>\n",
       "      <td>6488.30</td>\n",
       "      <td>6.059022e+13</td>\n",
       "      <td>2</td>\n",
       "      <td>0.005383</td>\n",
       "      <td>2017-01-01</td>\n",
       "      <td>NaN</td>\n",
       "      <td>Single Family Residential</td>\n",
       "    </tr>\n",
       "    <tr>\n",
       "      <th>3</th>\n",
       "      <td>12177905</td>\n",
       "      <td>261.0</td>\n",
       "      <td>2.0</td>\n",
       "      <td>2288172</td>\n",
       "      <td>3.0</td>\n",
       "      <td>4.0</td>\n",
       "      <td>8.0</td>\n",
       "      <td>3.0</td>\n",
       "      <td>2376.0</td>\n",
       "      <td>2376.0</td>\n",
       "      <td>...</td>\n",
       "      <td>145143.0</td>\n",
       "      <td>2016.0</td>\n",
       "      <td>36225.0</td>\n",
       "      <td>1777.51</td>\n",
       "      <td>6.037300e+13</td>\n",
       "      <td>3</td>\n",
       "      <td>-0.103410</td>\n",
       "      <td>2017-01-01</td>\n",
       "      <td>Central</td>\n",
       "      <td>Single Family Residential</td>\n",
       "    </tr>\n",
       "    <tr>\n",
       "      <th>4</th>\n",
       "      <td>10887214</td>\n",
       "      <td>266.0</td>\n",
       "      <td>2.0</td>\n",
       "      <td>1970746</td>\n",
       "      <td>3.0</td>\n",
       "      <td>3.0</td>\n",
       "      <td>8.0</td>\n",
       "      <td>3.0</td>\n",
       "      <td>1312.0</td>\n",
       "      <td>1312.0</td>\n",
       "      <td>...</td>\n",
       "      <td>119407.0</td>\n",
       "      <td>2016.0</td>\n",
       "      <td>45726.0</td>\n",
       "      <td>1533.89</td>\n",
       "      <td>6.037124e+13</td>\n",
       "      <td>4</td>\n",
       "      <td>0.006940</td>\n",
       "      <td>2017-01-01</td>\n",
       "      <td>Central</td>\n",
       "      <td>Condominium</td>\n",
       "    </tr>\n",
       "  </tbody>\n",
       "</table>\n",
       "<p>5 rows × 35 columns</p>\n",
       "</div>"
      ],
      "text/plain": [
       "   parcelid  propertylandusetypeid  heatingorsystemtypeid       id  \\\n",
       "0  14297519                  261.0                    NaN  1727539   \n",
       "1  17052889                  261.0                    NaN  1387261   \n",
       "2  14186244                  261.0                    NaN    11677   \n",
       "3  12177905                  261.0                    2.0  2288172   \n",
       "4  10887214                  266.0                    2.0  1970746   \n",
       "\n",
       "   bathroomcnt  bedroomcnt  buildingqualitytypeid  calculatedbathnbr  \\\n",
       "0          3.5         4.0                    NaN                3.5   \n",
       "1          1.0         2.0                    NaN                1.0   \n",
       "2          2.0         3.0                    NaN                2.0   \n",
       "3          3.0         4.0                    8.0                3.0   \n",
       "4          3.0         3.0                    8.0                3.0   \n",
       "\n",
       "   calculatedfinishedsquarefeet  finishedsquarefeet12  ...  taxvaluedollarcnt  \\\n",
       "0                        3100.0                3100.0  ...          1023282.0   \n",
       "1                        1465.0                1465.0  ...           464000.0   \n",
       "2                        1243.0                1243.0  ...           564778.0   \n",
       "3                        2376.0                2376.0  ...           145143.0   \n",
       "4                        1312.0                1312.0  ...           119407.0   \n",
       "\n",
       "   assessmentyear  landtaxvaluedollarcnt  taxamount  censustractandblock id.1  \\\n",
       "0          2016.0               537569.0   11013.72         6.059063e+13    0   \n",
       "1          2016.0               376000.0    5672.48         6.111001e+13    1   \n",
       "2          2016.0               479489.0    6488.30         6.059022e+13    2   \n",
       "3          2016.0                36225.0    1777.51         6.037300e+13    3   \n",
       "4          2016.0                45726.0    1533.89         6.037124e+13    4   \n",
       "\n",
       "   logerror  transactiondate  heatingorsystemdesc        propertylandusedesc  \n",
       "0  0.025595       2017-01-01                  NaN  Single Family Residential  \n",
       "1  0.055619       2017-01-01                  NaN  Single Family Residential  \n",
       "2  0.005383       2017-01-01                  NaN  Single Family Residential  \n",
       "3 -0.103410       2017-01-01              Central  Single Family Residential  \n",
       "4  0.006940       2017-01-01              Central                Condominium  \n",
       "\n",
       "[5 rows x 35 columns]"
      ]
     },
     "execution_count": 7,
     "metadata": {},
     "output_type": "execute_result"
    }
   ],
   "source": [
    "df.head()"
   ]
  },
  {
   "cell_type": "code",
   "execution_count": 8,
   "metadata": {},
   "outputs": [
    {
     "data": {
      "text/plain": [
       "(77580, 35)"
      ]
     },
     "execution_count": 8,
     "metadata": {},
     "output_type": "execute_result"
    }
   ],
   "source": [
    "df.shape"
   ]
  },
  {
   "cell_type": "code",
   "execution_count": 9,
   "metadata": {},
   "outputs": [
    {
     "name": "stdout",
     "output_type": "stream",
     "text": [
      "# of different values between finishedsquarefeet12 and calculatedfinishedsquarefeet: 3656\n",
      "# of different values between calculatedbathnbr and bathroomcnt: 616\n",
      "# of different values between fullbathcnt and bathroomcnt: 10722\n"
     ]
    }
   ],
   "source": [
    "sqft_columns_diff = (df.finishedsquarefeet12 != df.calculatedfinishedsquarefeet).sum()\n",
    "bathroomcnt_diff = (df.calculatedbathnbr != df.bathroomcnt).sum()\n",
    "fullbathcnt_diff = (df.fullbathcnt != df.bathroomcnt).sum()\n",
    "\n",
    "print(f'# of different values between finishedsquarefeet12 and calculatedfinishedsquarefeet: {sqft_columns_diff}')\n",
    "print(f'# of different values between calculatedbathnbr and bathroomcnt: {bathroomcnt_diff}')\n",
    "print(f'# of different values between fullbathcnt and bathroomcnt: {fullbathcnt_diff}')"
   ]
  },
  {
   "cell_type": "markdown",
   "metadata": {},
   "source": [
    "calculatedbathnbr seem to be very similar. The finishedsquarefeet12 also has a very similar set of values. Fullbathcnt has too many different values to comfortably drop however the other two columns will be dropped."
   ]
  },
  {
   "cell_type": "code",
   "execution_count": 10,
   "metadata": {},
   "outputs": [
    {
     "data": {
      "text/plain": [
       "parcelid                        77381\n",
       "propertylandusetypeid              13\n",
       "heatingorsystemtypeid              10\n",
       "id                              77381\n",
       "bathroomcnt                        22\n",
       "bedroomcnt                         16\n",
       "buildingqualitytypeid              12\n",
       "calculatedbathnbr                  21\n",
       "calculatedfinishedsquarefeet     4972\n",
       "finishedsquarefeet12             4868\n",
       "fips                                3\n",
       "fullbathcnt                        13\n",
       "latitude                        64038\n",
       "longitude                       62461\n",
       "lotsizesquarefeet               18848\n",
       "propertycountylandusecode          75\n",
       "propertyzoningdesc               1907\n",
       "rawcensustractandblock          39191\n",
       "regionidcity                      175\n",
       "regionidcounty                      3\n",
       "regionidzip                       389\n",
       "roomcnt                            16\n",
       "unitcnt                             8\n",
       "yearbuilt                         136\n",
       "structuretaxvaluedollarcnt      50430\n",
       "taxvaluedollarcnt               50949\n",
       "assessmentyear                      1\n",
       "landtaxvaluedollarcnt           51600\n",
       "taxamount                       73825\n",
       "censustractandblock             39006\n",
       "id.1                            77580\n",
       "logerror                        77030\n",
       "transactiondate                   265\n",
       "heatingorsystemdesc                10\n",
       "propertylandusedesc                13\n",
       "dtype: int64"
      ]
     },
     "execution_count": 10,
     "metadata": {},
     "output_type": "execute_result"
    }
   ],
   "source": [
    "df.nunique()"
   ]
  },
  {
   "cell_type": "markdown",
   "metadata": {},
   "source": [
    "These columns are categorical and contain more than 10 unique values. They will be dropped because encoding them and using them as features would be both computationally expensive as well as add a lot of noise to the data.  \n",
    "* propertylandusetypeid\n",
    "* buildingqualitytypeid\n",
    "* propertycountylandusecode\n",
    "* propertyzoningdesc\n",
    "* regionidcity\n",
    "* rawcensustractandblock\n",
    "* censustractandblock\n",
    "* regionidzip\n",
    "* id\n",
    "* parcelid\n",
    "* transactiondate\n",
    "* latitude\n",
    "* longitude\n",
    "* heatingorsystemtypeid\n",
    "\n",
    "This column has only one unique value and thus is useless for distinctions:  \n",
    "* assessmentyear\n",
    "\n",
    "Will be using fips to indentify county so I will be dropping this columns as well.\n",
    "* regionidcounty"
   ]
  },
  {
   "cell_type": "code",
   "execution_count": 11,
   "metadata": {},
   "outputs": [
    {
     "data": {
      "text/html": [
       "<div>\n",
       "<style scoped>\n",
       "    .dataframe tbody tr th:only-of-type {\n",
       "        vertical-align: middle;\n",
       "    }\n",
       "\n",
       "    .dataframe tbody tr th {\n",
       "        vertical-align: top;\n",
       "    }\n",
       "\n",
       "    .dataframe thead th {\n",
       "        text-align: right;\n",
       "    }\n",
       "</style>\n",
       "<table border=\"1\" class=\"dataframe\">\n",
       "  <thead>\n",
       "    <tr style=\"text-align: right;\">\n",
       "      <th></th>\n",
       "      <th>bathroomcnt</th>\n",
       "      <th>bedroomcnt</th>\n",
       "      <th>calculatedfinishedsquarefeet</th>\n",
       "      <th>fips</th>\n",
       "      <th>lotsizesquarefeet</th>\n",
       "      <th>roomcnt</th>\n",
       "      <th>taxvaluedollarcnt</th>\n",
       "      <th>taxamount</th>\n",
       "      <th>logerror</th>\n",
       "    </tr>\n",
       "  </thead>\n",
       "  <tbody>\n",
       "    <tr>\n",
       "      <th>0</th>\n",
       "      <td>3.5</td>\n",
       "      <td>4.0</td>\n",
       "      <td>3100.0</td>\n",
       "      <td>6059.0</td>\n",
       "      <td>4506.0</td>\n",
       "      <td>0.0</td>\n",
       "      <td>1023282.0</td>\n",
       "      <td>11013.72</td>\n",
       "      <td>0.025595</td>\n",
       "    </tr>\n",
       "    <tr>\n",
       "      <th>1</th>\n",
       "      <td>1.0</td>\n",
       "      <td>2.0</td>\n",
       "      <td>1465.0</td>\n",
       "      <td>6111.0</td>\n",
       "      <td>12647.0</td>\n",
       "      <td>5.0</td>\n",
       "      <td>464000.0</td>\n",
       "      <td>5672.48</td>\n",
       "      <td>0.055619</td>\n",
       "    </tr>\n",
       "    <tr>\n",
       "      <th>2</th>\n",
       "      <td>2.0</td>\n",
       "      <td>3.0</td>\n",
       "      <td>1243.0</td>\n",
       "      <td>6059.0</td>\n",
       "      <td>8432.0</td>\n",
       "      <td>6.0</td>\n",
       "      <td>564778.0</td>\n",
       "      <td>6488.30</td>\n",
       "      <td>0.005383</td>\n",
       "    </tr>\n",
       "    <tr>\n",
       "      <th>3</th>\n",
       "      <td>3.0</td>\n",
       "      <td>4.0</td>\n",
       "      <td>2376.0</td>\n",
       "      <td>6037.0</td>\n",
       "      <td>13038.0</td>\n",
       "      <td>0.0</td>\n",
       "      <td>145143.0</td>\n",
       "      <td>1777.51</td>\n",
       "      <td>-0.103410</td>\n",
       "    </tr>\n",
       "    <tr>\n",
       "      <th>4</th>\n",
       "      <td>3.0</td>\n",
       "      <td>3.0</td>\n",
       "      <td>1312.0</td>\n",
       "      <td>6037.0</td>\n",
       "      <td>278581.0</td>\n",
       "      <td>0.0</td>\n",
       "      <td>119407.0</td>\n",
       "      <td>1533.89</td>\n",
       "      <td>0.006940</td>\n",
       "    </tr>\n",
       "  </tbody>\n",
       "</table>\n",
       "</div>"
      ],
      "text/plain": [
       "   bathroomcnt  bedroomcnt  calculatedfinishedsquarefeet    fips  \\\n",
       "0          3.5         4.0                        3100.0  6059.0   \n",
       "1          1.0         2.0                        1465.0  6111.0   \n",
       "2          2.0         3.0                        1243.0  6059.0   \n",
       "3          3.0         4.0                        2376.0  6037.0   \n",
       "4          3.0         3.0                        1312.0  6037.0   \n",
       "\n",
       "   lotsizesquarefeet  roomcnt  taxvaluedollarcnt  taxamount  logerror  \n",
       "0             4506.0      0.0          1023282.0   11013.72  0.025595  \n",
       "1            12647.0      5.0           464000.0    5672.48  0.055619  \n",
       "2             8432.0      6.0           564778.0    6488.30  0.005383  \n",
       "3            13038.0      0.0           145143.0    1777.51 -0.103410  \n",
       "4           278581.0      0.0           119407.0    1533.89  0.006940  "
      ]
     },
     "execution_count": 11,
     "metadata": {},
     "output_type": "execute_result"
    }
   ],
   "source": [
    "df = drop_selected_columns(df)\n",
    "df.head()"
   ]
  },
  {
   "cell_type": "code",
   "execution_count": 12,
   "metadata": {},
   "outputs": [
    {
     "name": "stdout",
     "output_type": "stream",
     "text": [
      "<class 'pandas.core.frame.DataFrame'>\n",
      "RangeIndex: 77580 entries, 0 to 77579\n",
      "Data columns (total 9 columns):\n",
      " #   Column                        Non-Null Count  Dtype  \n",
      "---  ------                        --------------  -----  \n",
      " 0   bathroomcnt                   77580 non-null  float64\n",
      " 1   bedroomcnt                    77580 non-null  float64\n",
      " 2   calculatedfinishedsquarefeet  77379 non-null  float64\n",
      " 3   fips                          77580 non-null  float64\n",
      " 4   lotsizesquarefeet             69322 non-null  float64\n",
      " 5   roomcnt                       77580 non-null  float64\n",
      " 6   taxvaluedollarcnt             77579 non-null  float64\n",
      " 7   taxamount                     77575 non-null  float64\n",
      " 8   logerror                      77580 non-null  float64\n",
      "dtypes: float64(9)\n",
      "memory usage: 5.3 MB\n"
     ]
    }
   ],
   "source": [
    "df.info()"
   ]
  },
  {
   "cell_type": "code",
   "execution_count": 13,
   "metadata": {},
   "outputs": [],
   "source": [
    "missing_rows_df = missing_rows(df)\n",
    "total_pct_missing_rows = missing_rows_df.pct_rows_missing.sum()"
   ]
  },
  {
   "cell_type": "code",
   "execution_count": 14,
   "metadata": {},
   "outputs": [
    {
     "name": "stdout",
     "output_type": "stream",
     "text": [
      "Missing Row Percent: 10.911317349832432%\n"
     ]
    }
   ],
   "source": [
    "print(f'Missing Row Percent: {total_pct_missing_rows}%')"
   ]
  },
  {
   "cell_type": "markdown",
   "metadata": {},
   "source": [
    "The remaining nulls make up ~11% of the data. In the interest of time we will be dropping these rows."
   ]
  },
  {
   "cell_type": "code",
   "execution_count": 15,
   "metadata": {},
   "outputs": [],
   "source": [
    "df.dropna(inplace=True)"
   ]
  },
  {
   "cell_type": "code",
   "execution_count": 16,
   "metadata": {},
   "outputs": [
    {
     "name": "stdout",
     "output_type": "stream",
     "text": [
      "<class 'pandas.core.frame.DataFrame'>\n",
      "Int64Index: 69201 entries, 0 to 77579\n",
      "Data columns (total 9 columns):\n",
      " #   Column                        Non-Null Count  Dtype  \n",
      "---  ------                        --------------  -----  \n",
      " 0   bathroomcnt                   69201 non-null  float64\n",
      " 1   bedroomcnt                    69201 non-null  float64\n",
      " 2   calculatedfinishedsquarefeet  69201 non-null  float64\n",
      " 3   fips                          69201 non-null  float64\n",
      " 4   lotsizesquarefeet             69201 non-null  float64\n",
      " 5   roomcnt                       69201 non-null  float64\n",
      " 6   taxvaluedollarcnt             69201 non-null  float64\n",
      " 7   taxamount                     69201 non-null  float64\n",
      " 8   logerror                      69201 non-null  float64\n",
      "dtypes: float64(9)\n",
      "memory usage: 5.3 MB\n"
     ]
    }
   ],
   "source": [
    "df.info()"
   ]
  },
  {
   "cell_type": "code",
   "execution_count": 17,
   "metadata": {},
   "outputs": [
    {
     "data": {
      "text/plain": [
       "bathroomcnt                        21\n",
       "bedroomcnt                         15\n",
       "calculatedfinishedsquarefeet     4936\n",
       "fips                                3\n",
       "lotsizesquarefeet               18806\n",
       "roomcnt                            16\n",
       "taxvaluedollarcnt               47209\n",
       "taxamount                       66407\n",
       "logerror                        68744\n",
       "dtype: int64"
      ]
     },
     "execution_count": 17,
     "metadata": {},
     "output_type": "execute_result"
    }
   ],
   "source": [
    "df.nunique()"
   ]
  },
  {
   "cell_type": "code",
   "execution_count": 18,
   "metadata": {},
   "outputs": [],
   "source": [
    "df = zillow_dummies(df)"
   ]
  },
  {
   "cell_type": "code",
   "execution_count": 19,
   "metadata": {},
   "outputs": [
    {
     "data": {
      "text/html": [
       "<div>\n",
       "<style scoped>\n",
       "    .dataframe tbody tr th:only-of-type {\n",
       "        vertical-align: middle;\n",
       "    }\n",
       "\n",
       "    .dataframe tbody tr th {\n",
       "        vertical-align: top;\n",
       "    }\n",
       "\n",
       "    .dataframe thead th {\n",
       "        text-align: right;\n",
       "    }\n",
       "</style>\n",
       "<table border=\"1\" class=\"dataframe\">\n",
       "  <thead>\n",
       "    <tr style=\"text-align: right;\">\n",
       "      <th></th>\n",
       "      <th>bathroomcnt</th>\n",
       "      <th>bedroomcnt</th>\n",
       "      <th>calculatedfinishedsquarefeet</th>\n",
       "      <th>fips</th>\n",
       "      <th>lotsizesquarefeet</th>\n",
       "      <th>roomcnt</th>\n",
       "      <th>taxvaluedollarcnt</th>\n",
       "      <th>taxamount</th>\n",
       "      <th>logerror</th>\n",
       "      <th>fips_6037</th>\n",
       "      <th>fips_6059</th>\n",
       "      <th>fips_6111</th>\n",
       "    </tr>\n",
       "  </thead>\n",
       "  <tbody>\n",
       "    <tr>\n",
       "      <th>0</th>\n",
       "      <td>3.5</td>\n",
       "      <td>4.0</td>\n",
       "      <td>3100.0</td>\n",
       "      <td>6059.0</td>\n",
       "      <td>4506.0</td>\n",
       "      <td>0.0</td>\n",
       "      <td>1023282.0</td>\n",
       "      <td>11013.72</td>\n",
       "      <td>0.025595</td>\n",
       "      <td>0</td>\n",
       "      <td>1</td>\n",
       "      <td>0</td>\n",
       "    </tr>\n",
       "    <tr>\n",
       "      <th>1</th>\n",
       "      <td>1.0</td>\n",
       "      <td>2.0</td>\n",
       "      <td>1465.0</td>\n",
       "      <td>6111.0</td>\n",
       "      <td>12647.0</td>\n",
       "      <td>5.0</td>\n",
       "      <td>464000.0</td>\n",
       "      <td>5672.48</td>\n",
       "      <td>0.055619</td>\n",
       "      <td>0</td>\n",
       "      <td>0</td>\n",
       "      <td>1</td>\n",
       "    </tr>\n",
       "    <tr>\n",
       "      <th>2</th>\n",
       "      <td>2.0</td>\n",
       "      <td>3.0</td>\n",
       "      <td>1243.0</td>\n",
       "      <td>6059.0</td>\n",
       "      <td>8432.0</td>\n",
       "      <td>6.0</td>\n",
       "      <td>564778.0</td>\n",
       "      <td>6488.30</td>\n",
       "      <td>0.005383</td>\n",
       "      <td>0</td>\n",
       "      <td>1</td>\n",
       "      <td>0</td>\n",
       "    </tr>\n",
       "    <tr>\n",
       "      <th>3</th>\n",
       "      <td>3.0</td>\n",
       "      <td>4.0</td>\n",
       "      <td>2376.0</td>\n",
       "      <td>6037.0</td>\n",
       "      <td>13038.0</td>\n",
       "      <td>0.0</td>\n",
       "      <td>145143.0</td>\n",
       "      <td>1777.51</td>\n",
       "      <td>-0.103410</td>\n",
       "      <td>1</td>\n",
       "      <td>0</td>\n",
       "      <td>0</td>\n",
       "    </tr>\n",
       "    <tr>\n",
       "      <th>4</th>\n",
       "      <td>3.0</td>\n",
       "      <td>3.0</td>\n",
       "      <td>1312.0</td>\n",
       "      <td>6037.0</td>\n",
       "      <td>278581.0</td>\n",
       "      <td>0.0</td>\n",
       "      <td>119407.0</td>\n",
       "      <td>1533.89</td>\n",
       "      <td>0.006940</td>\n",
       "      <td>1</td>\n",
       "      <td>0</td>\n",
       "      <td>0</td>\n",
       "    </tr>\n",
       "  </tbody>\n",
       "</table>\n",
       "</div>"
      ],
      "text/plain": [
       "   bathroomcnt  bedroomcnt  calculatedfinishedsquarefeet    fips  \\\n",
       "0          3.5         4.0                        3100.0  6059.0   \n",
       "1          1.0         2.0                        1465.0  6111.0   \n",
       "2          2.0         3.0                        1243.0  6059.0   \n",
       "3          3.0         4.0                        2376.0  6037.0   \n",
       "4          3.0         3.0                        1312.0  6037.0   \n",
       "\n",
       "   lotsizesquarefeet  roomcnt  taxvaluedollarcnt  taxamount  logerror  \\\n",
       "0             4506.0      0.0          1023282.0   11013.72  0.025595   \n",
       "1            12647.0      5.0           464000.0    5672.48  0.055619   \n",
       "2             8432.0      6.0           564778.0    6488.30  0.005383   \n",
       "3            13038.0      0.0           145143.0    1777.51 -0.103410   \n",
       "4           278581.0      0.0           119407.0    1533.89  0.006940   \n",
       "\n",
       "   fips_6037  fips_6059  fips_6111  \n",
       "0          0          1          0  \n",
       "1          0          0          1  \n",
       "2          0          1          0  \n",
       "3          1          0          0  \n",
       "4          1          0          0  "
      ]
     },
     "execution_count": 19,
     "metadata": {},
     "output_type": "execute_result"
    }
   ],
   "source": [
    "df.head()"
   ]
  },
  {
   "cell_type": "code",
   "execution_count": 20,
   "metadata": {},
   "outputs": [],
   "source": [
    "df['roomcnt'] = np.where(df['roomcnt'] == 0.0, (df.bathroomcnt + df.bedroomcnt), df['roomcnt'])"
   ]
  },
  {
   "cell_type": "code",
   "execution_count": 21,
   "metadata": {},
   "outputs": [
    {
     "data": {
      "text/html": [
       "<div>\n",
       "<style scoped>\n",
       "    .dataframe tbody tr th:only-of-type {\n",
       "        vertical-align: middle;\n",
       "    }\n",
       "\n",
       "    .dataframe tbody tr th {\n",
       "        vertical-align: top;\n",
       "    }\n",
       "\n",
       "    .dataframe thead th {\n",
       "        text-align: right;\n",
       "    }\n",
       "</style>\n",
       "<table border=\"1\" class=\"dataframe\">\n",
       "  <thead>\n",
       "    <tr style=\"text-align: right;\">\n",
       "      <th></th>\n",
       "      <th>bathroomcnt</th>\n",
       "      <th>bedroomcnt</th>\n",
       "      <th>calculatedfinishedsquarefeet</th>\n",
       "      <th>fips</th>\n",
       "      <th>lotsizesquarefeet</th>\n",
       "      <th>roomcnt</th>\n",
       "      <th>taxvaluedollarcnt</th>\n",
       "      <th>taxamount</th>\n",
       "      <th>logerror</th>\n",
       "      <th>fips_6037</th>\n",
       "      <th>fips_6059</th>\n",
       "      <th>fips_6111</th>\n",
       "    </tr>\n",
       "  </thead>\n",
       "  <tbody>\n",
       "    <tr>\n",
       "      <th>0</th>\n",
       "      <td>3.5</td>\n",
       "      <td>4.0</td>\n",
       "      <td>3100.0</td>\n",
       "      <td>6059.0</td>\n",
       "      <td>4506.0</td>\n",
       "      <td>7.5</td>\n",
       "      <td>1023282.0</td>\n",
       "      <td>11013.72</td>\n",
       "      <td>0.025595</td>\n",
       "      <td>0</td>\n",
       "      <td>1</td>\n",
       "      <td>0</td>\n",
       "    </tr>\n",
       "    <tr>\n",
       "      <th>1</th>\n",
       "      <td>1.0</td>\n",
       "      <td>2.0</td>\n",
       "      <td>1465.0</td>\n",
       "      <td>6111.0</td>\n",
       "      <td>12647.0</td>\n",
       "      <td>5.0</td>\n",
       "      <td>464000.0</td>\n",
       "      <td>5672.48</td>\n",
       "      <td>0.055619</td>\n",
       "      <td>0</td>\n",
       "      <td>0</td>\n",
       "      <td>1</td>\n",
       "    </tr>\n",
       "    <tr>\n",
       "      <th>2</th>\n",
       "      <td>2.0</td>\n",
       "      <td>3.0</td>\n",
       "      <td>1243.0</td>\n",
       "      <td>6059.0</td>\n",
       "      <td>8432.0</td>\n",
       "      <td>6.0</td>\n",
       "      <td>564778.0</td>\n",
       "      <td>6488.30</td>\n",
       "      <td>0.005383</td>\n",
       "      <td>0</td>\n",
       "      <td>1</td>\n",
       "      <td>0</td>\n",
       "    </tr>\n",
       "    <tr>\n",
       "      <th>3</th>\n",
       "      <td>3.0</td>\n",
       "      <td>4.0</td>\n",
       "      <td>2376.0</td>\n",
       "      <td>6037.0</td>\n",
       "      <td>13038.0</td>\n",
       "      <td>7.0</td>\n",
       "      <td>145143.0</td>\n",
       "      <td>1777.51</td>\n",
       "      <td>-0.103410</td>\n",
       "      <td>1</td>\n",
       "      <td>0</td>\n",
       "      <td>0</td>\n",
       "    </tr>\n",
       "    <tr>\n",
       "      <th>4</th>\n",
       "      <td>3.0</td>\n",
       "      <td>3.0</td>\n",
       "      <td>1312.0</td>\n",
       "      <td>6037.0</td>\n",
       "      <td>278581.0</td>\n",
       "      <td>6.0</td>\n",
       "      <td>119407.0</td>\n",
       "      <td>1533.89</td>\n",
       "      <td>0.006940</td>\n",
       "      <td>1</td>\n",
       "      <td>0</td>\n",
       "      <td>0</td>\n",
       "    </tr>\n",
       "  </tbody>\n",
       "</table>\n",
       "</div>"
      ],
      "text/plain": [
       "   bathroomcnt  bedroomcnt  calculatedfinishedsquarefeet    fips  \\\n",
       "0          3.5         4.0                        3100.0  6059.0   \n",
       "1          1.0         2.0                        1465.0  6111.0   \n",
       "2          2.0         3.0                        1243.0  6059.0   \n",
       "3          3.0         4.0                        2376.0  6037.0   \n",
       "4          3.0         3.0                        1312.0  6037.0   \n",
       "\n",
       "   lotsizesquarefeet  roomcnt  taxvaluedollarcnt  taxamount  logerror  \\\n",
       "0             4506.0      7.5          1023282.0   11013.72  0.025595   \n",
       "1            12647.0      5.0           464000.0    5672.48  0.055619   \n",
       "2             8432.0      6.0           564778.0    6488.30  0.005383   \n",
       "3            13038.0      7.0           145143.0    1777.51 -0.103410   \n",
       "4           278581.0      6.0           119407.0    1533.89  0.006940   \n",
       "\n",
       "   fips_6037  fips_6059  fips_6111  \n",
       "0          0          1          0  \n",
       "1          0          0          1  \n",
       "2          0          1          0  \n",
       "3          1          0          0  \n",
       "4          1          0          0  "
      ]
     },
     "execution_count": 21,
     "metadata": {},
     "output_type": "execute_result"
    }
   ],
   "source": [
    "df.head()"
   ]
  },
  {
   "cell_type": "markdown",
   "metadata": {},
   "source": [
    "### Splitting  \n",
    "We will use our split function to split into train, validate, and test and then use the .shape method to show how many rows are in each dataframe."
   ]
  },
  {
   "cell_type": "code",
   "execution_count": 117,
   "metadata": {},
   "outputs": [
    {
     "data": {
      "text/plain": [
       "((38752, 12), (16608, 12), (13841, 12))"
      ]
     },
     "execution_count": 117,
     "metadata": {},
     "output_type": "execute_result"
    }
   ],
   "source": [
    "train, validate, test = zillow_split(df)\n",
    "train.shape, validate.shape, test.shape"
   ]
  },
  {
   "cell_type": "markdown",
   "metadata": {},
   "source": [
    "### Outliers"
   ]
  },
  {
   "cell_type": "markdown",
   "metadata": {},
   "source": [
    "### Scaling"
   ]
  },
  {
   "cell_type": "code",
   "execution_count": 118,
   "metadata": {},
   "outputs": [
    {
     "data": {
      "text/html": [
       "<div>\n",
       "<style scoped>\n",
       "    .dataframe tbody tr th:only-of-type {\n",
       "        vertical-align: middle;\n",
       "    }\n",
       "\n",
       "    .dataframe tbody tr th {\n",
       "        vertical-align: top;\n",
       "    }\n",
       "\n",
       "    .dataframe thead th {\n",
       "        text-align: right;\n",
       "    }\n",
       "</style>\n",
       "<table border=\"1\" class=\"dataframe\">\n",
       "  <thead>\n",
       "    <tr style=\"text-align: right;\">\n",
       "      <th></th>\n",
       "      <th>bathroomcnt</th>\n",
       "      <th>bedroomcnt</th>\n",
       "      <th>calculatedfinishedsquarefeet</th>\n",
       "      <th>fips</th>\n",
       "      <th>lotsizesquarefeet</th>\n",
       "      <th>roomcnt</th>\n",
       "      <th>taxvaluedollarcnt</th>\n",
       "      <th>taxamount</th>\n",
       "      <th>logerror</th>\n",
       "      <th>fips_6037</th>\n",
       "      <th>fips_6059</th>\n",
       "      <th>fips_6111</th>\n",
       "    </tr>\n",
       "  </thead>\n",
       "  <tbody>\n",
       "    <tr>\n",
       "      <th>30994</th>\n",
       "      <td>0.153846</td>\n",
       "      <td>0.1875</td>\n",
       "      <td>0.046145</td>\n",
       "      <td>6037.0</td>\n",
       "      <td>0.008575</td>\n",
       "      <td>0.208333</td>\n",
       "      <td>0.005118</td>\n",
       "      <td>0.005795</td>\n",
       "      <td>-0.161035</td>\n",
       "      <td>1</td>\n",
       "      <td>0</td>\n",
       "      <td>0</td>\n",
       "    </tr>\n",
       "    <tr>\n",
       "      <th>25639</th>\n",
       "      <td>0.230769</td>\n",
       "      <td>0.3125</td>\n",
       "      <td>0.108344</td>\n",
       "      <td>6059.0</td>\n",
       "      <td>0.001086</td>\n",
       "      <td>0.375000</td>\n",
       "      <td>0.023851</td>\n",
       "      <td>0.022167</td>\n",
       "      <td>0.003467</td>\n",
       "      <td>0</td>\n",
       "      <td>1</td>\n",
       "      <td>0</td>\n",
       "    </tr>\n",
       "    <tr>\n",
       "      <th>65786</th>\n",
       "      <td>0.153846</td>\n",
       "      <td>0.1250</td>\n",
       "      <td>0.058851</td>\n",
       "      <td>6111.0</td>\n",
       "      <td>0.000863</td>\n",
       "      <td>0.166667</td>\n",
       "      <td>0.017854</td>\n",
       "      <td>0.019021</td>\n",
       "      <td>0.006034</td>\n",
       "      <td>0</td>\n",
       "      <td>0</td>\n",
       "      <td>1</td>\n",
       "    </tr>\n",
       "    <tr>\n",
       "      <th>20824</th>\n",
       "      <td>0.230769</td>\n",
       "      <td>0.3125</td>\n",
       "      <td>0.101922</td>\n",
       "      <td>6037.0</td>\n",
       "      <td>0.000954</td>\n",
       "      <td>0.333333</td>\n",
       "      <td>0.019628</td>\n",
       "      <td>0.023167</td>\n",
       "      <td>0.025436</td>\n",
       "      <td>1</td>\n",
       "      <td>0</td>\n",
       "      <td>0</td>\n",
       "    </tr>\n",
       "    <tr>\n",
       "      <th>66654</th>\n",
       "      <td>0.230769</td>\n",
       "      <td>0.2500</td>\n",
       "      <td>0.114582</td>\n",
       "      <td>6037.0</td>\n",
       "      <td>0.002657</td>\n",
       "      <td>0.291667</td>\n",
       "      <td>0.035876</td>\n",
       "      <td>0.038816</td>\n",
       "      <td>0.947245</td>\n",
       "      <td>1</td>\n",
       "      <td>0</td>\n",
       "      <td>0</td>\n",
       "    </tr>\n",
       "  </tbody>\n",
       "</table>\n",
       "</div>"
      ],
      "text/plain": [
       "       bathroomcnt  bedroomcnt  calculatedfinishedsquarefeet    fips  \\\n",
       "30994     0.153846      0.1875                      0.046145  6037.0   \n",
       "25639     0.230769      0.3125                      0.108344  6059.0   \n",
       "65786     0.153846      0.1250                      0.058851  6111.0   \n",
       "20824     0.230769      0.3125                      0.101922  6037.0   \n",
       "66654     0.230769      0.2500                      0.114582  6037.0   \n",
       "\n",
       "       lotsizesquarefeet   roomcnt  taxvaluedollarcnt  taxamount  logerror  \\\n",
       "30994           0.008575  0.208333           0.005118   0.005795 -0.161035   \n",
       "25639           0.001086  0.375000           0.023851   0.022167  0.003467   \n",
       "65786           0.000863  0.166667           0.017854   0.019021  0.006034   \n",
       "20824           0.000954  0.333333           0.019628   0.023167  0.025436   \n",
       "66654           0.002657  0.291667           0.035876   0.038816  0.947245   \n",
       "\n",
       "       fips_6037  fips_6059  fips_6111  \n",
       "30994          1          0          0  \n",
       "25639          0          1          0  \n",
       "65786          0          0          1  \n",
       "20824          1          0          0  \n",
       "66654          1          0          0  "
      ]
     },
     "execution_count": 118,
     "metadata": {},
     "output_type": "execute_result"
    }
   ],
   "source": [
    "train_scaled, validate_scaled, test_scaled = zillow_scaler(train, validate, test)\n",
    "train_scaled.head()"
   ]
  },
  {
   "cell_type": "code",
   "execution_count": 37,
   "metadata": {},
   "outputs": [
    {
     "data": {
      "text/html": [
       "<div>\n",
       "<style scoped>\n",
       "    .dataframe tbody tr th:only-of-type {\n",
       "        vertical-align: middle;\n",
       "    }\n",
       "\n",
       "    .dataframe tbody tr th {\n",
       "        vertical-align: top;\n",
       "    }\n",
       "\n",
       "    .dataframe thead th {\n",
       "        text-align: right;\n",
       "    }\n",
       "</style>\n",
       "<table border=\"1\" class=\"dataframe\">\n",
       "  <thead>\n",
       "    <tr style=\"text-align: right;\">\n",
       "      <th></th>\n",
       "      <th>features</th>\n",
       "    </tr>\n",
       "    <tr>\n",
       "      <th>rank</th>\n",
       "      <th></th>\n",
       "    </tr>\n",
       "  </thead>\n",
       "  <tbody>\n",
       "    <tr>\n",
       "      <th>1</th>\n",
       "      <td>taxamount</td>\n",
       "    </tr>\n",
       "    <tr>\n",
       "      <th>2</th>\n",
       "      <td>taxvaluedollarcnt</td>\n",
       "    </tr>\n",
       "    <tr>\n",
       "      <th>3</th>\n",
       "      <td>calculatedfinishedsquarefeet</td>\n",
       "    </tr>\n",
       "    <tr>\n",
       "      <th>4</th>\n",
       "      <td>lotsizesquarefeet</td>\n",
       "    </tr>\n",
       "    <tr>\n",
       "      <th>5</th>\n",
       "      <td>bathroomcnt</td>\n",
       "    </tr>\n",
       "    <tr>\n",
       "      <th>6</th>\n",
       "      <td>roomcnt</td>\n",
       "    </tr>\n",
       "    <tr>\n",
       "      <th>7</th>\n",
       "      <td>bedroomcnt</td>\n",
       "    </tr>\n",
       "  </tbody>\n",
       "</table>\n",
       "</div>"
      ],
      "text/plain": [
       "                          features\n",
       "rank                              \n",
       "1                        taxamount\n",
       "2                taxvaluedollarcnt\n",
       "3     calculatedfinishedsquarefeet\n",
       "4                lotsizesquarefeet\n",
       "5                      bathroomcnt\n",
       "6                          roomcnt\n",
       "7                       bedroomcnt"
      ]
     },
     "execution_count": 37,
     "metadata": {},
     "output_type": "execute_result"
    }
   ],
   "source": [
    "X = train_scaled[['bathroomcnt', 'bedroomcnt', 'calculatedfinishedsquarefeet', 'lotsizesquarefeet', 'roomcnt', 'taxvaluedollarcnt', 'taxamount']]\n",
    "y = train['logerror']\n",
    "lm = LinearRegression()\n",
    "rfe_ = RFE(lm, 1)\n",
    "rfe_.fit(X, y)\n",
    "ranks = rfe_.ranking_\n",
    "names = X.columns.tolist()\n",
    "pd.DataFrame({'features': names, 'rank': ranks}).set_index('rank').sort_index()"
   ]
  },
  {
   "cell_type": "markdown",
   "metadata": {},
   "source": [
    "We will be using four features, taxvaluedollarcnt, calculatedfinishedsquarefeet, lotsizesquarefeet, roomcnt."
   ]
  },
  {
   "cell_type": "code",
   "execution_count": 119,
   "metadata": {},
   "outputs": [],
   "source": [
    "train_scaled = train_scaled[['taxvaluedollarcnt', 'calculatedfinishedsquarefeet', 'lotsizesquarefeet', 'roomcnt', 'logerror']]\n",
    "validate_scaled = validate_scaled[['taxvaluedollarcnt', 'calculatedfinishedsquarefeet', 'lotsizesquarefeet', 'roomcnt', 'logerror']]\n",
    "test_scaled = test_scaled[['taxvaluedollarcnt', 'calculatedfinishedsquarefeet', 'lotsizesquarefeet', 'roomcnt', 'logerror']]\n",
    "\n",
    "train = train[['taxvaluedollarcnt', 'calculatedfinishedsquarefeet', 'lotsizesquarefeet', 'roomcnt', 'logerror']]\n",
    "validate = validate[['taxvaluedollarcnt', 'calculatedfinishedsquarefeet', 'lotsizesquarefeet', 'roomcnt', 'logerror']]\n",
    "test = test[['taxvaluedollarcnt', 'calculatedfinishedsquarefeet', 'lotsizesquarefeet', 'roomcnt', 'logerror']]"
   ]
  },
  {
   "cell_type": "code",
   "execution_count": 120,
   "metadata": {},
   "outputs": [
    {
     "data": {
      "text/html": [
       "<div>\n",
       "<style scoped>\n",
       "    .dataframe tbody tr th:only-of-type {\n",
       "        vertical-align: middle;\n",
       "    }\n",
       "\n",
       "    .dataframe tbody tr th {\n",
       "        vertical-align: top;\n",
       "    }\n",
       "\n",
       "    .dataframe thead th {\n",
       "        text-align: right;\n",
       "    }\n",
       "</style>\n",
       "<table border=\"1\" class=\"dataframe\">\n",
       "  <thead>\n",
       "    <tr style=\"text-align: right;\">\n",
       "      <th></th>\n",
       "      <th>taxvaluedollarcnt</th>\n",
       "      <th>calculatedfinishedsquarefeet</th>\n",
       "      <th>lotsizesquarefeet</th>\n",
       "      <th>roomcnt</th>\n",
       "      <th>logerror</th>\n",
       "    </tr>\n",
       "  </thead>\n",
       "  <tbody>\n",
       "    <tr>\n",
       "      <th>30994</th>\n",
       "      <td>0.005118</td>\n",
       "      <td>0.046145</td>\n",
       "      <td>0.008575</td>\n",
       "      <td>0.208333</td>\n",
       "      <td>-0.161035</td>\n",
       "    </tr>\n",
       "    <tr>\n",
       "      <th>25639</th>\n",
       "      <td>0.023851</td>\n",
       "      <td>0.108344</td>\n",
       "      <td>0.001086</td>\n",
       "      <td>0.375000</td>\n",
       "      <td>0.003467</td>\n",
       "    </tr>\n",
       "    <tr>\n",
       "      <th>65786</th>\n",
       "      <td>0.017854</td>\n",
       "      <td>0.058851</td>\n",
       "      <td>0.000863</td>\n",
       "      <td>0.166667</td>\n",
       "      <td>0.006034</td>\n",
       "    </tr>\n",
       "    <tr>\n",
       "      <th>20824</th>\n",
       "      <td>0.019628</td>\n",
       "      <td>0.101922</td>\n",
       "      <td>0.000954</td>\n",
       "      <td>0.333333</td>\n",
       "      <td>0.025436</td>\n",
       "    </tr>\n",
       "    <tr>\n",
       "      <th>66654</th>\n",
       "      <td>0.035876</td>\n",
       "      <td>0.114582</td>\n",
       "      <td>0.002657</td>\n",
       "      <td>0.291667</td>\n",
       "      <td>0.947245</td>\n",
       "    </tr>\n",
       "  </tbody>\n",
       "</table>\n",
       "</div>"
      ],
      "text/plain": [
       "       taxvaluedollarcnt  calculatedfinishedsquarefeet  lotsizesquarefeet  \\\n",
       "30994           0.005118                      0.046145           0.008575   \n",
       "25639           0.023851                      0.108344           0.001086   \n",
       "65786           0.017854                      0.058851           0.000863   \n",
       "20824           0.019628                      0.101922           0.000954   \n",
       "66654           0.035876                      0.114582           0.002657   \n",
       "\n",
       "        roomcnt  logerror  \n",
       "30994  0.208333 -0.161035  \n",
       "25639  0.375000  0.003467  \n",
       "65786  0.166667  0.006034  \n",
       "20824  0.333333  0.025436  \n",
       "66654  0.291667  0.947245  "
      ]
     },
     "execution_count": 120,
     "metadata": {},
     "output_type": "execute_result"
    }
   ],
   "source": [
    "train_scaled.head()"
   ]
  },
  {
   "cell_type": "code",
   "execution_count": 121,
   "metadata": {},
   "outputs": [
    {
     "data": {
      "text/html": [
       "<div>\n",
       "<style scoped>\n",
       "    .dataframe tbody tr th:only-of-type {\n",
       "        vertical-align: middle;\n",
       "    }\n",
       "\n",
       "    .dataframe tbody tr th {\n",
       "        vertical-align: top;\n",
       "    }\n",
       "\n",
       "    .dataframe thead th {\n",
       "        text-align: right;\n",
       "    }\n",
       "</style>\n",
       "<table border=\"1\" class=\"dataframe\">\n",
       "  <thead>\n",
       "    <tr style=\"text-align: right;\">\n",
       "      <th></th>\n",
       "      <th>property_tax_value</th>\n",
       "      <th>total_square_feet</th>\n",
       "      <th>lot_square_feet</th>\n",
       "      <th>room_count</th>\n",
       "      <th>logerror</th>\n",
       "    </tr>\n",
       "  </thead>\n",
       "  <tbody>\n",
       "    <tr>\n",
       "      <th>30994</th>\n",
       "      <td>133147.0</td>\n",
       "      <td>1134.0</td>\n",
       "      <td>60009.0</td>\n",
       "      <td>5.0</td>\n",
       "      <td>-0.161035</td>\n",
       "    </tr>\n",
       "    <tr>\n",
       "      <th>25639</th>\n",
       "      <td>608536.0</td>\n",
       "      <td>2490.0</td>\n",
       "      <td>7808.0</td>\n",
       "      <td>9.0</td>\n",
       "      <td>0.003467</td>\n",
       "    </tr>\n",
       "    <tr>\n",
       "      <th>65786</th>\n",
       "      <td>456354.0</td>\n",
       "      <td>1411.0</td>\n",
       "      <td>6250.0</td>\n",
       "      <td>4.0</td>\n",
       "      <td>0.006034</td>\n",
       "    </tr>\n",
       "    <tr>\n",
       "      <th>20824</th>\n",
       "      <td>501370.0</td>\n",
       "      <td>2350.0</td>\n",
       "      <td>6886.0</td>\n",
       "      <td>8.0</td>\n",
       "      <td>0.025436</td>\n",
       "    </tr>\n",
       "    <tr>\n",
       "      <th>66654</th>\n",
       "      <td>913724.0</td>\n",
       "      <td>2626.0</td>\n",
       "      <td>18760.0</td>\n",
       "      <td>7.0</td>\n",
       "      <td>0.947245</td>\n",
       "    </tr>\n",
       "  </tbody>\n",
       "</table>\n",
       "</div>"
      ],
      "text/plain": [
       "       property_tax_value  total_square_feet  lot_square_feet  room_count  \\\n",
       "30994            133147.0             1134.0          60009.0         5.0   \n",
       "25639            608536.0             2490.0           7808.0         9.0   \n",
       "65786            456354.0             1411.0           6250.0         4.0   \n",
       "20824            501370.0             2350.0           6886.0         8.0   \n",
       "66654            913724.0             2626.0          18760.0         7.0   \n",
       "\n",
       "       logerror  \n",
       "30994 -0.161035  \n",
       "25639  0.003467  \n",
       "65786  0.006034  \n",
       "20824  0.025436  \n",
       "66654  0.947245  "
      ]
     },
     "execution_count": 121,
     "metadata": {},
     "output_type": "execute_result"
    }
   ],
   "source": [
    "train_scaled = train_scaled.rename(columns = {'taxvaluedollarcnt': 'property_tax_value', 'calculatedfinishedsquarefeet': 'total_square_feet', 'lotsizesquarefeet': 'lot_square_feet', 'roomcnt': 'room_count'})\n",
    "validate_scaled = validate_scaled.rename(columns = {'taxvaluedollarcnt': 'property_tax_value', 'calculatedfinishedsquarefeet': 'total_square_feet', 'lotsizesquarefeet': 'lot_square_feet', 'roomcnt': 'room_count'})\n",
    "test_scaled = test_scaled.rename(columns = {'taxvaluedollarcnt': 'property_tax_value', 'calculatedfinishedsquarefeet': 'total_square_feet', 'lotsizesquarefeet': 'lot_square_feet', 'roomcnt': 'room_count'})\n",
    "\n",
    "train = train.rename(columns = {'taxvaluedollarcnt': 'property_tax_value', 'calculatedfinishedsquarefeet': 'total_square_feet', 'lotsizesquarefeet': 'lot_square_feet', 'roomcnt': 'room_count'})\n",
    "validate = validate.rename(columns = {'taxvaluedollarcnt': 'property_tax_value', 'calculatedfinishedsquarefeet': 'total_square_feet', 'lotsizesquarefeet': 'lot_square_feet', 'roomcnt': 'room_count'})\n",
    "test = test.rename(columns = {'taxvaluedollarcnt': 'property_tax_value', 'calculatedfinishedsquarefeet': 'total_square_feet', 'lotsizesquarefeet': 'lot_square_feet', 'roomcnt': 'room_count'})\n",
    "\n",
    "train.head()"
   ]
  },
  {
   "cell_type": "markdown",
   "metadata": {},
   "source": [
    "## Prepare Takeaways"
   ]
  },
  {
   "cell_type": "markdown",
   "metadata": {},
   "source": [
    "* Dropped all columns that were missing 40% or more of their values\n",
    "* Dropped duplicate columns\n",
    "* Dropped categorical columns with many unique values\n",
    "* Dropped columns with only one unique value\n",
    "* Dropped redundant columns  \n",
    "\n",
    "\n",
    "* Dropped rows with missing values.\n",
    "* Split Data into train, validate, test\n",
    "* Scaled numeric variables.  \n",
    "\n",
    "\n",
    "* Variables to move forwards into exploration:\n",
    "    * room_count\n",
    "    * lot_square_feet\n",
    "    * total_square_feet\n",
    "    * property_tax_value"
   ]
  },
  {
   "cell_type": "markdown",
   "metadata": {},
   "source": [
    "## Explore"
   ]
  },
  {
   "cell_type": "markdown",
   "metadata": {},
   "source": [
    "### Total Square Feet"
   ]
  },
  {
   "cell_type": "code",
   "execution_count": 56,
   "metadata": {},
   "outputs": [
    {
     "data": {
      "text/plain": [
       "Text(0, 0.5, 'Log Error')"
      ]
     },
     "execution_count": 56,
     "metadata": {},
     "output_type": "execute_result"
    },
    {
     "data": {
      "image/png": "[encoded data removed]",
      "text/plain": [
       "<Figure size 1008x432 with 1 Axes>"
      ]
     },
     "metadata": {},
     "output_type": "display_data"
    }
   ],
   "source": [
    "sns.set(rc={'figure.figsize':(14,6)})\n",
    "sns.set(font_scale=2)\n",
    "sns.scatterplot(x='total_square_feet', y='logerror', data = train)\n",
    "plt.title('Worse Log Error Values At Lower Total Square Footage')\n",
    "plt.xlabel('Total Square Feet')\n",
    "plt.ylabel('Log Error')"
   ]
  },
  {
   "cell_type": "markdown",
   "metadata": {},
   "source": [
    "The higher the total_square_feet the better the log error is."
   ]
  },
  {
   "cell_type": "markdown",
   "metadata": {},
   "source": [
    "### Hypothesis Test - Total Square Feet"
   ]
  },
  {
   "cell_type": "markdown",
   "metadata": {},
   "source": [
    "$H_0$: Log error of properties with below average total square feet is equal to the log error of properties with average or above total square feet.  \n",
    "$H_a$: Log error of properties with below average total square feet is not equal to the log error of properties with average or above total square feet.  \n",
    "Alpha: 0.05"
   ]
  },
  {
   "cell_type": "code",
   "execution_count": 57,
   "metadata": {},
   "outputs": [],
   "source": [
    "avg_total_square_feet = train.total_square_feet.mean()"
   ]
  },
  {
   "cell_type": "code",
   "execution_count": 62,
   "metadata": {},
   "outputs": [
    {
     "name": "stdout",
     "output_type": "stream",
     "text": [
      "P-Value: 0.0003745465169178938\n"
     ]
    }
   ],
   "source": [
    "x1 = train[train.total_square_feet < avg_total_square_feet].logerror\n",
    "x2 = train[train.total_square_feet >= avg_total_square_feet].logerror\n",
    "\n",
    "t, p = stats.ttest_ind(x1, x2)\n",
    "\n",
    "print(f'P-Value: {p}')"
   ]
  },
  {
   "cell_type": "markdown",
   "metadata": {},
   "source": [
    "Because our p-value is less than our alpha(0.05) we reject our null hypothesis and can conclude that the log error is different whether or not you have a house with avg. or more total square footage."
   ]
  },
  {
   "cell_type": "markdown",
   "metadata": {},
   "source": [
    "### Room_Count"
   ]
  },
  {
   "cell_type": "code",
   "execution_count": 65,
   "metadata": {},
   "outputs": [
    {
     "data": {
      "text/plain": [
       "Text(0, 0.5, 'Log Error')"
      ]
     },
     "execution_count": 65,
     "metadata": {},
     "output_type": "execute_result"
    },
    {
     "data": {
      "image/png": "[encoded data removed]",
      "text/plain": [
       "<Figure size 1008x432 with 1 Axes>"
      ]
     },
     "metadata": {},
     "output_type": "display_data"
    }
   ],
   "source": [
    "sns.scatterplot(x = 'room_count', y='logerror', data=train)\n",
    "plt.title('Worse Log Errors At Lower Room Counts')\n",
    "plt.xlabel('Room Count')\n",
    "plt.ylabel('Log Error')"
   ]
  },
  {
   "cell_type": "markdown",
   "metadata": {},
   "source": [
    "It seems the general trend is that the lower the room count the higher the log error."
   ]
  },
  {
   "cell_type": "markdown",
   "metadata": {},
   "source": [
    "### Hypothesis Test - Room Count"
   ]
  },
  {
   "cell_type": "markdown",
   "metadata": {},
   "source": [
    "$H_0$: Log error of properties with below average room count is equal to the log error of properties with average or above room count.  \n",
    "$H_a$: Log error of properties with below average room count is not equal to the log error of properties with average or above room count.  \n",
    "alpha: 0.05"
   ]
  },
  {
   "cell_type": "code",
   "execution_count": 67,
   "metadata": {},
   "outputs": [
    {
     "name": "stdout",
     "output_type": "stream",
     "text": [
      "P-Value: 0.0002705470395621311\n"
     ]
    }
   ],
   "source": [
    "avg_room_count = train.room_count.mean()\n",
    "\n",
    "x1 = train[train.room_count < avg_room_count].logerror\n",
    "x2 = train[train.room_count >= avg_room_count].logerror\n",
    "\n",
    "t, p = stats.ttest_ind(x1, x2)\n",
    "\n",
    "print(f'P-Value: {p}')"
   ]
  },
  {
   "cell_type": "markdown",
   "metadata": {},
   "source": [
    "Because our p-value is lower than our alpha we reject the null hypothesis and conclude that the log error of properties with average or higher room count is not the same as those with below average room count."
   ]
  },
  {
   "cell_type": "code",
   "execution_count": 69,
   "metadata": {},
   "outputs": [
    {
     "data": {
      "text/plain": [
       "Text(0, 0.5, 'Log Error')"
      ]
     },
     "execution_count": 69,
     "metadata": {},
     "output_type": "execute_result"
    },
    {
     "data": {
      "image/png": "[encoded data removed]",
      "text/plain": [
       "<Figure size 1008x432 with 1 Axes>"
      ]
     },
     "metadata": {},
     "output_type": "display_data"
    }
   ],
   "source": [
    "sns.scatterplot(x='property_tax_value', y='logerror', data = train)\n",
    "plt.title('Worse Log Error Values At Lower Property Tax Values')\n",
    "plt.xlabel('Property Tax Value')\n",
    "plt.ylabel('Log Error')"
   ]
  },
  {
   "cell_type": "code",
   "execution_count": 71,
   "metadata": {},
   "outputs": [
    {
     "data": {
      "text/plain": [
       "Text(0, 0.5, 'Log Error')"
      ]
     },
     "execution_count": 71,
     "metadata": {},
     "output_type": "execute_result"
    },
    {
     "data": {
      "image/png": "[encoded data removed]",
      "text/plain": [
       "<Figure size 1008x432 with 1 Axes>"
      ]
     },
     "metadata": {},
     "output_type": "display_data"
    }
   ],
   "source": [
    "sns.scatterplot(x='lot_square_feet', y='logerror', data = train)\n",
    "plt.title('Worse Log Error Values At Lower Lot Square Footage')\n",
    "plt.xlabel('Lot Square Feet')\n",
    "plt.ylabel('Log Error')"
   ]
  },
  {
   "cell_type": "markdown",
   "metadata": {},
   "source": [
    "## Clustering"
   ]
  },
  {
   "cell_type": "markdown",
   "metadata": {},
   "source": [
    "### Cluster Features: Total Square Feet & Property Tax Value"
   ]
  },
  {
   "cell_type": "code",
   "execution_count": 116,
   "metadata": {},
   "outputs": [],
   "source": [
    "train_k1 = train.copy()"
   ]
  },
  {
   "cell_type": "code",
   "execution_count": 113,
   "metadata": {},
   "outputs": [],
   "source": [
    "x_clustered1 = train_scaled[['total_square_feet', 'property_tax_value']]"
   ]
  },
  {
   "cell_type": "markdown",
   "metadata": {},
   "source": [
    "First I'm going to use the elbow method to figure out which value of k I should use."
   ]
  },
  {
   "cell_type": "code",
   "execution_count": 74,
   "metadata": {},
   "outputs": [
    {
     "data": {
      "image/png": "[encoded data removed]",
      "text/plain": [
       "<Figure size 576x432 with 1 Axes>"
      ]
     },
     "metadata": {},
     "output_type": "display_data"
    }
   ],
   "source": [
    "with plt.style.context('seaborn-whitegrid'):\n",
    "    plt.figure(figsize=(8,6))\n",
    "    pd.Series({k: KMeans(k).fit(x_clustered1).inertia_ for k in range(2, 12)}).plot(marker='x')\n",
    "    plt.xticks(range(2, 12))\n",
    "    plt.xlabel('k')\n",
    "    plt.ylabel('inertia')\n",
    "    plt.title('Change in inertia as k increases')"
   ]
  },
  {
   "cell_type": "markdown",
   "metadata": {},
   "source": [
    "It seems like the best value for k is 4."
   ]
  },
  {
   "cell_type": "code",
   "execution_count": 137,
   "metadata": {},
   "outputs": [],
   "source": [
    "kmeans1 = KMeans(n_clusters = 4)\n",
    "\n",
    "kmeans1.fit(x_clustered1)\n",
    "kmeans1.predict(x_clustered1)\n",
    "train_k1['clustered'] = kmeans1.predict(x_clustered1)"
   ]
  },
  {
   "cell_type": "code",
   "execution_count": 138,
   "metadata": {},
   "outputs": [
    {
     "data": {
      "text/html": [
       "<div>\n",
       "<style scoped>\n",
       "    .dataframe tbody tr th:only-of-type {\n",
       "        vertical-align: middle;\n",
       "    }\n",
       "\n",
       "    .dataframe tbody tr th {\n",
       "        vertical-align: top;\n",
       "    }\n",
       "\n",
       "    .dataframe thead th {\n",
       "        text-align: right;\n",
       "    }\n",
       "</style>\n",
       "<table border=\"1\" class=\"dataframe\">\n",
       "  <thead>\n",
       "    <tr style=\"text-align: right;\">\n",
       "      <th></th>\n",
       "      <th>property_tax_value</th>\n",
       "      <th>total_square_feet</th>\n",
       "      <th>lot_square_feet</th>\n",
       "      <th>room_count</th>\n",
       "      <th>logerror</th>\n",
       "      <th>clustered</th>\n",
       "    </tr>\n",
       "  </thead>\n",
       "  <tbody>\n",
       "    <tr>\n",
       "      <th>13720</th>\n",
       "      <td>293598.0</td>\n",
       "      <td>1616.0</td>\n",
       "      <td>29576.0</td>\n",
       "      <td>5.0</td>\n",
       "      <td>-0.012245</td>\n",
       "      <td>0</td>\n",
       "    </tr>\n",
       "    <tr>\n",
       "      <th>2115</th>\n",
       "      <td>311974.0</td>\n",
       "      <td>2099.0</td>\n",
       "      <td>21806.0</td>\n",
       "      <td>8.0</td>\n",
       "      <td>-0.017098</td>\n",
       "      <td>2</td>\n",
       "    </tr>\n",
       "    <tr>\n",
       "      <th>75729</th>\n",
       "      <td>660194.0</td>\n",
       "      <td>2080.0</td>\n",
       "      <td>7681.0</td>\n",
       "      <td>8.0</td>\n",
       "      <td>-0.372195</td>\n",
       "      <td>2</td>\n",
       "    </tr>\n",
       "    <tr>\n",
       "      <th>57659</th>\n",
       "      <td>492946.0</td>\n",
       "      <td>3310.0</td>\n",
       "      <td>5330.0</td>\n",
       "      <td>9.0</td>\n",
       "      <td>0.096568</td>\n",
       "      <td>3</td>\n",
       "    </tr>\n",
       "    <tr>\n",
       "      <th>21625</th>\n",
       "      <td>641997.0</td>\n",
       "      <td>2170.0</td>\n",
       "      <td>2913.0</td>\n",
       "      <td>6.5</td>\n",
       "      <td>0.001046</td>\n",
       "      <td>2</td>\n",
       "    </tr>\n",
       "    <tr>\n",
       "      <th>17800</th>\n",
       "      <td>929823.0</td>\n",
       "      <td>1835.0</td>\n",
       "      <td>122942.0</td>\n",
       "      <td>5.0</td>\n",
       "      <td>-0.001120</td>\n",
       "      <td>2</td>\n",
       "    </tr>\n",
       "    <tr>\n",
       "      <th>56386</th>\n",
       "      <td>451786.0</td>\n",
       "      <td>1778.0</td>\n",
       "      <td>6602.0</td>\n",
       "      <td>5.0</td>\n",
       "      <td>0.023548</td>\n",
       "      <td>2</td>\n",
       "    </tr>\n",
       "    <tr>\n",
       "      <th>41850</th>\n",
       "      <td>445000.0</td>\n",
       "      <td>1418.0</td>\n",
       "      <td>6925.0</td>\n",
       "      <td>5.0</td>\n",
       "      <td>-0.043678</td>\n",
       "      <td>0</td>\n",
       "    </tr>\n",
       "    <tr>\n",
       "      <th>50535</th>\n",
       "      <td>988452.0</td>\n",
       "      <td>2749.0</td>\n",
       "      <td>25982.0</td>\n",
       "      <td>7.0</td>\n",
       "      <td>0.421198</td>\n",
       "      <td>2</td>\n",
       "    </tr>\n",
       "    <tr>\n",
       "      <th>1734</th>\n",
       "      <td>527086.0</td>\n",
       "      <td>1445.0</td>\n",
       "      <td>3478.0</td>\n",
       "      <td>6.0</td>\n",
       "      <td>0.073819</td>\n",
       "      <td>0</td>\n",
       "    </tr>\n",
       "  </tbody>\n",
       "</table>\n",
       "</div>"
      ],
      "text/plain": [
       "       property_tax_value  total_square_feet  lot_square_feet  room_count  \\\n",
       "13720            293598.0             1616.0          29576.0         5.0   \n",
       "2115             311974.0             2099.0          21806.0         8.0   \n",
       "75729            660194.0             2080.0           7681.0         8.0   \n",
       "57659            492946.0             3310.0           5330.0         9.0   \n",
       "21625            641997.0             2170.0           2913.0         6.5   \n",
       "17800            929823.0             1835.0         122942.0         5.0   \n",
       "56386            451786.0             1778.0           6602.0         5.0   \n",
       "41850            445000.0             1418.0           6925.0         5.0   \n",
       "50535            988452.0             2749.0          25982.0         7.0   \n",
       "1734             527086.0             1445.0           3478.0         6.0   \n",
       "\n",
       "       logerror  clustered  \n",
       "13720 -0.012245          0  \n",
       "2115  -0.017098          2  \n",
       "75729 -0.372195          2  \n",
       "57659  0.096568          3  \n",
       "21625  0.001046          2  \n",
       "17800 -0.001120          2  \n",
       "56386  0.023548          2  \n",
       "41850 -0.043678          0  \n",
       "50535  0.421198          2  \n",
       "1734   0.073819          0  "
      ]
     },
     "execution_count": 138,
     "metadata": {},
     "output_type": "execute_result"
    }
   ],
   "source": [
    "train_k1.sample(10)"
   ]
  },
  {
   "cell_type": "code",
   "execution_count": 139,
   "metadata": {},
   "outputs": [
    {
     "data": {
      "image/png": "[encoded data removed]",
      "text/plain": [
       "<Figure size 1008x432 with 1 Axes>"
      ]
     },
     "metadata": {},
     "output_type": "display_data"
    }
   ],
   "source": [
    "sns.set(rc={'figure.figsize':(14,6)})\n",
    "sns.set(font_scale=1.5)\n",
    "sns.scatterplot(x='total_square_feet', y=train_k1['property_tax_value'] / 1000, hue='clustered', data = train_k1)\n",
    "plt.title('Property Tax Value & Total Square Feet Clusters')\n",
    "plt.xlabel('Total Square Feet')\n",
    "plt.ylabel('Property Tax Value (Thousands)')\n",
    "plt.tight_layout()"
   ]
  },
  {
   "cell_type": "markdown",
   "metadata": {},
   "source": [
    "**Cluster 0:** The smallest/least valued properties.  \n",
    "**Cluster 1:** Lower-medium sized properties that still are mostly lower valued.  \n",
    "**Cluster 2:** Medium-larger sized properties that are still mostly lower valued.  \n",
    "**Cluster 3:** Erratic, numerous outliers. Either higher than normal property value or higher than normal property size."
   ]
  },
  {
   "cell_type": "markdown",
   "metadata": {},
   "source": [
    "## Cluster Hypothesis Test"
   ]
  },
  {
   "cell_type": "markdown",
   "metadata": {},
   "source": [
    "$H_0$: There is no difference between the average log error of clusters 0, 1, 2, and 3.  \n",
    "$H_a$: There is a difference between the average log error of clusters 0, 1, 2, and 3."
   ]
  },
  {
   "cell_type": "code",
   "execution_count": 151,
   "metadata": {},
   "outputs": [],
   "source": [
    "cluster_0 = train_k1[train_k1.clustered == 0].logerror\n",
    "cluster_1 = train_k1[train_k1.clustered == 1].logerror\n",
    "cluster_2 = train_k1[train_k1.clustered == 2].logerror\n",
    "cluster_3 = train_k1[train_k1.clustered == 3].logerror"
   ]
  },
  {
   "cell_type": "code",
   "execution_count": 152,
   "metadata": {},
   "outputs": [],
   "source": [
    "f, p = stats.f_oneway(cluster_0, cluster_1, cluster_2, cluster_3)"
   ]
  },
  {
   "cell_type": "code",
   "execution_count": 153,
   "metadata": {},
   "outputs": [
    {
     "name": "stdout",
     "output_type": "stream",
     "text": [
      "alpha: .05\n",
      "f: 10.254252632098698\n",
      "P-Value: 9.591273127291616e-07\n"
     ]
    }
   ],
   "source": [
    "print('alpha: .05')\n",
    "print(f'f: {f}')\n",
    "print(f'P-Value: {p}')"
   ]
  },
  {
   "cell_type": "markdown",
   "metadata": {},
   "source": [
    "Our p value is lower than our alpha of .05 which means that the average log errors are different between the clusters. We may choose to use this when it comes to modeling."
   ]
  },
  {
   "cell_type": "markdown",
   "metadata": {},
   "source": [
    "### Cluster Features: Total Square Feet & Room Count"
   ]
  },
  {
   "cell_type": "code",
   "execution_count": 133,
   "metadata": {},
   "outputs": [],
   "source": [
    "train_k2 = train.copy()\n",
    "x_clustered2 = train_scaled[['total_square_feet', 'room_count']]"
   ]
  },
  {
   "cell_type": "code",
   "execution_count": 115,
   "metadata": {},
   "outputs": [
    {
     "data": {
      "image/png": "[encoded data removed]",
      "text/plain": [
       "<Figure size 576x432 with 1 Axes>"
      ]
     },
     "metadata": {},
     "output_type": "display_data"
    }
   ],
   "source": [
    "with plt.style.context('seaborn-whitegrid'):\n",
    "    plt.figure(figsize=(8,6))\n",
    "    pd.Series({k: KMeans(k).fit(x_clustered2).inertia_ for k in range(2, 12)}).plot(marker='x')\n",
    "    plt.xticks(range(2, 12))\n",
    "    plt.xlabel('k')\n",
    "    plt.ylabel('inertia')\n",
    "    plt.title('Change in inertia as k increases')"
   ]
  },
  {
   "cell_type": "markdown",
   "metadata": {},
   "source": [
    "We will once again be using 4 for our k value."
   ]
  },
  {
   "cell_type": "code",
   "execution_count": 141,
   "metadata": {},
   "outputs": [
    {
     "data": {
      "text/html": [
       "<div>\n",
       "<style scoped>\n",
       "    .dataframe tbody tr th:only-of-type {\n",
       "        vertical-align: middle;\n",
       "    }\n",
       "\n",
       "    .dataframe tbody tr th {\n",
       "        vertical-align: top;\n",
       "    }\n",
       "\n",
       "    .dataframe thead th {\n",
       "        text-align: right;\n",
       "    }\n",
       "</style>\n",
       "<table border=\"1\" class=\"dataframe\">\n",
       "  <thead>\n",
       "    <tr style=\"text-align: right;\">\n",
       "      <th></th>\n",
       "      <th>property_tax_value</th>\n",
       "      <th>total_square_feet</th>\n",
       "      <th>lot_square_feet</th>\n",
       "      <th>room_count</th>\n",
       "      <th>logerror</th>\n",
       "      <th>clustered</th>\n",
       "    </tr>\n",
       "  </thead>\n",
       "  <tbody>\n",
       "    <tr>\n",
       "      <th>35030</th>\n",
       "      <td>3187000.0</td>\n",
       "      <td>3762.0</td>\n",
       "      <td>7653.0</td>\n",
       "      <td>9.0</td>\n",
       "      <td>-0.090070</td>\n",
       "      <td>2</td>\n",
       "    </tr>\n",
       "    <tr>\n",
       "      <th>55268</th>\n",
       "      <td>47416.0</td>\n",
       "      <td>1120.0</td>\n",
       "      <td>7210.0</td>\n",
       "      <td>6.0</td>\n",
       "      <td>0.241703</td>\n",
       "      <td>0</td>\n",
       "    </tr>\n",
       "    <tr>\n",
       "      <th>68361</th>\n",
       "      <td>342514.0</td>\n",
       "      <td>2826.0</td>\n",
       "      <td>23650.0</td>\n",
       "      <td>8.0</td>\n",
       "      <td>0.032420</td>\n",
       "      <td>3</td>\n",
       "    </tr>\n",
       "    <tr>\n",
       "      <th>58265</th>\n",
       "      <td>375587.0</td>\n",
       "      <td>3024.0</td>\n",
       "      <td>5704.0</td>\n",
       "      <td>7.0</td>\n",
       "      <td>0.362212</td>\n",
       "      <td>3</td>\n",
       "    </tr>\n",
       "    <tr>\n",
       "      <th>8667</th>\n",
       "      <td>14577.0</td>\n",
       "      <td>742.0</td>\n",
       "      <td>6850.0</td>\n",
       "      <td>4.0</td>\n",
       "      <td>0.021454</td>\n",
       "      <td>1</td>\n",
       "    </tr>\n",
       "    <tr>\n",
       "      <th>42557</th>\n",
       "      <td>247357.0</td>\n",
       "      <td>1380.0</td>\n",
       "      <td>48336.0</td>\n",
       "      <td>5.0</td>\n",
       "      <td>0.037190</td>\n",
       "      <td>0</td>\n",
       "    </tr>\n",
       "    <tr>\n",
       "      <th>35401</th>\n",
       "      <td>297077.0</td>\n",
       "      <td>2198.0</td>\n",
       "      <td>10900.0</td>\n",
       "      <td>8.0</td>\n",
       "      <td>-0.014807</td>\n",
       "      <td>3</td>\n",
       "    </tr>\n",
       "    <tr>\n",
       "      <th>34249</th>\n",
       "      <td>872099.0</td>\n",
       "      <td>3169.0</td>\n",
       "      <td>10824.0</td>\n",
       "      <td>8.0</td>\n",
       "      <td>-0.077827</td>\n",
       "      <td>3</td>\n",
       "    </tr>\n",
       "    <tr>\n",
       "      <th>54252</th>\n",
       "      <td>197871.0</td>\n",
       "      <td>1236.0</td>\n",
       "      <td>11285.0</td>\n",
       "      <td>5.0</td>\n",
       "      <td>-0.034422</td>\n",
       "      <td>0</td>\n",
       "    </tr>\n",
       "    <tr>\n",
       "      <th>64461</th>\n",
       "      <td>68460.0</td>\n",
       "      <td>1356.0</td>\n",
       "      <td>6000.0</td>\n",
       "      <td>6.0</td>\n",
       "      <td>0.055480</td>\n",
       "      <td>0</td>\n",
       "    </tr>\n",
       "  </tbody>\n",
       "</table>\n",
       "</div>"
      ],
      "text/plain": [
       "       property_tax_value  total_square_feet  lot_square_feet  room_count  \\\n",
       "35030           3187000.0             3762.0           7653.0         9.0   \n",
       "55268             47416.0             1120.0           7210.0         6.0   \n",
       "68361            342514.0             2826.0          23650.0         8.0   \n",
       "58265            375587.0             3024.0           5704.0         7.0   \n",
       "8667              14577.0              742.0           6850.0         4.0   \n",
       "42557            247357.0             1380.0          48336.0         5.0   \n",
       "35401            297077.0             2198.0          10900.0         8.0   \n",
       "34249            872099.0             3169.0          10824.0         8.0   \n",
       "54252            197871.0             1236.0          11285.0         5.0   \n",
       "64461             68460.0             1356.0           6000.0         6.0   \n",
       "\n",
       "       logerror  clustered  \n",
       "35030 -0.090070          2  \n",
       "55268  0.241703          0  \n",
       "68361  0.032420          3  \n",
       "58265  0.362212          3  \n",
       "8667   0.021454          1  \n",
       "42557  0.037190          0  \n",
       "35401 -0.014807          3  \n",
       "34249 -0.077827          3  \n",
       "54252 -0.034422          0  \n",
       "64461  0.055480          0  "
      ]
     },
     "execution_count": 141,
     "metadata": {},
     "output_type": "execute_result"
    }
   ],
   "source": [
    "kmeans2 = KMeans(n_clusters = 4)\n",
    "\n",
    "kmeans2.fit(x_clustered2)\n",
    "kmeans2.predict(x_clustered2)\n",
    "train_k2['clustered'] = kmeans2.predict(x_clustered2)\n",
    "train_k2.sample(10)"
   ]
  },
  {
   "cell_type": "code",
   "execution_count": 149,
   "metadata": {},
   "outputs": [
    {
     "data": {
      "image/png": "[encoded data removed]",
      "text/plain": [
       "<Figure size 1008x432 with 1 Axes>"
      ]
     },
     "metadata": {},
     "output_type": "display_data"
    }
   ],
   "source": [
    "sns.set(rc={'figure.figsize':(14,6)})\n",
    "sns.set(font_scale=1.5)\n",
    "sns.scatterplot(x='total_square_feet', y='room_count', hue='clustered', data = train_k2)\n",
    "plt.title('Clusters for Total Square Feet and Room Count')\n",
    "plt.xlabel('Total Square Feet')\n",
    "plt.ylabel('Room Count')\n",
    "plt.tight_layout()"
   ]
  },
  {
   "cell_type": "markdown",
   "metadata": {},
   "source": [
    "**Cluster 0:** More rooms than Cluster 1 but about the same square footage.  \n",
    "**Cluster 1:** The lowest number of rooms and smallest square footage.  \n",
    "**Cluster 2:** The second largest and second highest number of rooms.  \n",
    "**Cluster 3:** The largest properties with the highest room counts."
   ]
  },
  {
   "cell_type": "markdown",
   "metadata": {},
   "source": [
    "## Cluster Hypothesis Test"
   ]
  },
  {
   "cell_type": "markdown",
   "metadata": {},
   "source": [
    "$H_0$: There is no difference between the average log error of clusters 0, 1, 2, and 3.  \n",
    "$H_a$: There is a difference between the average log error of clusters 0, 1, 2, and 3."
   ]
  },
  {
   "cell_type": "code",
   "execution_count": 150,
   "metadata": {},
   "outputs": [
    {
     "name": "stdout",
     "output_type": "stream",
     "text": [
      "alpha: 0.05\n",
      "P-Value: 8.660324041996956e-09\n"
     ]
    }
   ],
   "source": [
    "cluster_0 = train_k2[train_k2.clustered == 0].logerror\n",
    "cluster_1 = train_k2[train_k2.clustered == 1].logerror\n",
    "cluster_2 = train_k2[train_k2.clustered == 2].logerror\n",
    "cluster_3 = train_k2[train_k2.clustered == 3].logerror\n",
    "\n",
    "f, p = stats.f_oneway(cluster_0, cluster_1, cluster_2, cluster_3)\n",
    "\n",
    "print('alpha: 0.05')\n",
    "print(f'P-Value: {p}')"
   ]
  },
  {
   "cell_type": "markdown",
   "metadata": {},
   "source": [
    "Our p value is lower than our alpha of .05 which means that the average log errors are different between the clusters. We may choose to use this when it comes to modeling. This also performed better than the last hypothesis test."
   ]
  },
  {
   "cell_type": "markdown",
   "metadata": {},
   "source": [
    "# Modeling"
   ]
  },
  {
   "cell_type": "markdown",
   "metadata": {},
   "source": [
    "Now we start creating models that will attempt to predict the log error associated with each property."
   ]
  },
  {
   "cell_type": "markdown",
   "metadata": {},
   "source": [
    "### Baseline  \n",
    "The baseline will be the train samples log error."
   ]
  },
  {
   "cell_type": "code",
   "execution_count": 157,
   "metadata": {},
   "outputs": [],
   "source": [
    "y_train = train[['logerror']]\n",
    "y_train['baseline_pred'] = y_train.logerror.mean()"
   ]
  },
  {
   "cell_type": "code",
   "execution_count": 158,
   "metadata": {},
   "outputs": [
    {
     "data": {
      "text/html": [
       "<div>\n",
       "<style scoped>\n",
       "    .dataframe tbody tr th:only-of-type {\n",
       "        vertical-align: middle;\n",
       "    }\n",
       "\n",
       "    .dataframe tbody tr th {\n",
       "        vertical-align: top;\n",
       "    }\n",
       "\n",
       "    .dataframe thead th {\n",
       "        text-align: right;\n",
       "    }\n",
       "</style>\n",
       "<table border=\"1\" class=\"dataframe\">\n",
       "  <thead>\n",
       "    <tr style=\"text-align: right;\">\n",
       "      <th></th>\n",
       "      <th>logerror</th>\n",
       "      <th>baseline_pred</th>\n",
       "    </tr>\n",
       "  </thead>\n",
       "  <tbody>\n",
       "    <tr>\n",
       "      <th>30994</th>\n",
       "      <td>-0.161035</td>\n",
       "      <td>0.016961</td>\n",
       "    </tr>\n",
       "    <tr>\n",
       "      <th>25639</th>\n",
       "      <td>0.003467</td>\n",
       "      <td>0.016961</td>\n",
       "    </tr>\n",
       "    <tr>\n",
       "      <th>65786</th>\n",
       "      <td>0.006034</td>\n",
       "      <td>0.016961</td>\n",
       "    </tr>\n",
       "    <tr>\n",
       "      <th>20824</th>\n",
       "      <td>0.025436</td>\n",
       "      <td>0.016961</td>\n",
       "    </tr>\n",
       "    <tr>\n",
       "      <th>66654</th>\n",
       "      <td>0.947245</td>\n",
       "      <td>0.016961</td>\n",
       "    </tr>\n",
       "  </tbody>\n",
       "</table>\n",
       "</div>"
      ],
      "text/plain": [
       "       logerror  baseline_pred\n",
       "30994 -0.161035       0.016961\n",
       "25639  0.003467       0.016961\n",
       "65786  0.006034       0.016961\n",
       "20824  0.025436       0.016961\n",
       "66654  0.947245       0.016961"
      ]
     },
     "execution_count": 158,
     "metadata": {},
     "output_type": "execute_result"
    }
   ],
   "source": [
    "y_train.head()"
   ]
  },
  {
   "cell_type": "code",
   "execution_count": 159,
   "metadata": {},
   "outputs": [],
   "source": [
    "rmse_baseline = mean_squared_error(y_train.logerror, y_train.baseline_pred)**(1/2)"
   ]
  },
  {
   "cell_type": "code",
   "execution_count": 160,
   "metadata": {},
   "outputs": [
    {
     "name": "stdout",
     "output_type": "stream",
     "text": [
      "Baseline RMSE: 0.1668251137508384\n"
     ]
    }
   ],
   "source": [
    "print(f'Baseline RMSE: {rmse_baseline}')"
   ]
  },
  {
   "cell_type": "markdown",
   "metadata": {},
   "source": [
    "### Model 1 (All Features Including Clusters)  \n",
    "**Features:**  \n",
    "* total_square_feet\n",
    "* property_tax_value\n",
    "* room_count\n",
    "* lot_square_feet\n",
    "* Room Count Clusters\n",
    "    * room_count\n",
    "    * total_square_feet\n",
    "    * num clusters = 4\n",
    "\n",
    "**Model Type:** Linear Regression"
   ]
  },
  {
   "cell_type": "code",
   "execution_count": 168,
   "metadata": {},
   "outputs": [],
   "source": [
    "train_m1 = train.copy()\n",
    "x_clustered1 = train_scaled[['total_square_feet', 'room_count']]\n",
    "\n",
    "kmeans1 = KMeans(n_clusters = 4)\n",
    "\n",
    "kmeans1.fit(x_clustered1)\n",
    "kmeans1.predict(x_clustered1)\n",
    "train_m1['clusters'] = kmeans1.predict(x_clustered1)"
   ]
  },
  {
   "cell_type": "code",
   "execution_count": 172,
   "metadata": {},
   "outputs": [
    {
     "data": {
      "text/html": [
       "<div>\n",
       "<style scoped>\n",
       "    .dataframe tbody tr th:only-of-type {\n",
       "        vertical-align: middle;\n",
       "    }\n",
       "\n",
       "    .dataframe tbody tr th {\n",
       "        vertical-align: top;\n",
       "    }\n",
       "\n",
       "    .dataframe thead th {\n",
       "        text-align: right;\n",
       "    }\n",
       "</style>\n",
       "<table border=\"1\" class=\"dataframe\">\n",
       "  <thead>\n",
       "    <tr style=\"text-align: right;\">\n",
       "      <th></th>\n",
       "      <th>Cluster_0</th>\n",
       "      <th>Cluster_1</th>\n",
       "      <th>Cluster_2</th>\n",
       "      <th>Cluster_3</th>\n",
       "    </tr>\n",
       "  </thead>\n",
       "  <tbody>\n",
       "    <tr>\n",
       "      <th>30994</th>\n",
       "      <td>1</td>\n",
       "      <td>0</td>\n",
       "      <td>0</td>\n",
       "      <td>0</td>\n",
       "    </tr>\n",
       "    <tr>\n",
       "      <th>25639</th>\n",
       "      <td>0</td>\n",
       "      <td>0</td>\n",
       "      <td>0</td>\n",
       "      <td>1</td>\n",
       "    </tr>\n",
       "    <tr>\n",
       "      <th>65786</th>\n",
       "      <td>0</td>\n",
       "      <td>1</td>\n",
       "      <td>0</td>\n",
       "      <td>0</td>\n",
       "    </tr>\n",
       "    <tr>\n",
       "      <th>20824</th>\n",
       "      <td>0</td>\n",
       "      <td>0</td>\n",
       "      <td>0</td>\n",
       "      <td>1</td>\n",
       "    </tr>\n",
       "    <tr>\n",
       "      <th>66654</th>\n",
       "      <td>0</td>\n",
       "      <td>0</td>\n",
       "      <td>0</td>\n",
       "      <td>1</td>\n",
       "    </tr>\n",
       "  </tbody>\n",
       "</table>\n",
       "</div>"
      ],
      "text/plain": [
       "       Cluster_0  Cluster_1  Cluster_2  Cluster_3\n",
       "30994          1          0          0          0\n",
       "25639          0          0          0          1\n",
       "65786          0          1          0          0\n",
       "20824          0          0          0          1\n",
       "66654          0          0          0          1"
      ]
     },
     "execution_count": 172,
     "metadata": {},
     "output_type": "execute_result"
    }
   ],
   "source": [
    "dummy_df = pd.get_dummies(train_m1['clusters'], drop_first=False)\n",
    "dummy_df = dummy_df.rename(columns={0: 'Cluster_0', 1: 'Cluster_1', 2: 'Cluster_2', 3: 'Cluster_3'})\n",
    "dummy_df.head()"
   ]
  },
  {
   "cell_type": "code",
   "execution_count": 173,
   "metadata": {},
   "outputs": [],
   "source": [
    "train_m1 = pd.concat([train_m1, dummy_df], axis=1)"
   ]
  },
  {
   "cell_type": "code",
   "execution_count": 175,
   "metadata": {},
   "outputs": [],
   "source": [
    "train_m1 = train_m1.drop(columns='clusters')"
   ]
  },
  {
   "cell_type": "code",
   "execution_count": 177,
   "metadata": {},
   "outputs": [
    {
     "data": {
      "text/html": [
       "<div>\n",
       "<style scoped>\n",
       "    .dataframe tbody tr th:only-of-type {\n",
       "        vertical-align: middle;\n",
       "    }\n",
       "\n",
       "    .dataframe tbody tr th {\n",
       "        vertical-align: top;\n",
       "    }\n",
       "\n",
       "    .dataframe thead th {\n",
       "        text-align: right;\n",
       "    }\n",
       "</style>\n",
       "<table border=\"1\" class=\"dataframe\">\n",
       "  <thead>\n",
       "    <tr style=\"text-align: right;\">\n",
       "      <th></th>\n",
       "      <th>property_tax_value</th>\n",
       "      <th>total_square_feet</th>\n",
       "      <th>lot_square_feet</th>\n",
       "      <th>room_count</th>\n",
       "      <th>logerror</th>\n",
       "      <th>Cluster_0</th>\n",
       "      <th>Cluster_1</th>\n",
       "      <th>Cluster_2</th>\n",
       "      <th>Cluster_3</th>\n",
       "    </tr>\n",
       "  </thead>\n",
       "  <tbody>\n",
       "    <tr>\n",
       "      <th>30994</th>\n",
       "      <td>133147.0</td>\n",
       "      <td>1134.0</td>\n",
       "      <td>60009.0</td>\n",
       "      <td>5.0</td>\n",
       "      <td>-0.161035</td>\n",
       "      <td>1</td>\n",
       "      <td>0</td>\n",
       "      <td>0</td>\n",
       "      <td>0</td>\n",
       "    </tr>\n",
       "    <tr>\n",
       "      <th>25639</th>\n",
       "      <td>608536.0</td>\n",
       "      <td>2490.0</td>\n",
       "      <td>7808.0</td>\n",
       "      <td>9.0</td>\n",
       "      <td>0.003467</td>\n",
       "      <td>0</td>\n",
       "      <td>0</td>\n",
       "      <td>0</td>\n",
       "      <td>1</td>\n",
       "    </tr>\n",
       "    <tr>\n",
       "      <th>65786</th>\n",
       "      <td>456354.0</td>\n",
       "      <td>1411.0</td>\n",
       "      <td>6250.0</td>\n",
       "      <td>4.0</td>\n",
       "      <td>0.006034</td>\n",
       "      <td>0</td>\n",
       "      <td>1</td>\n",
       "      <td>0</td>\n",
       "      <td>0</td>\n",
       "    </tr>\n",
       "    <tr>\n",
       "      <th>20824</th>\n",
       "      <td>501370.0</td>\n",
       "      <td>2350.0</td>\n",
       "      <td>6886.0</td>\n",
       "      <td>8.0</td>\n",
       "      <td>0.025436</td>\n",
       "      <td>0</td>\n",
       "      <td>0</td>\n",
       "      <td>0</td>\n",
       "      <td>1</td>\n",
       "    </tr>\n",
       "    <tr>\n",
       "      <th>66654</th>\n",
       "      <td>913724.0</td>\n",
       "      <td>2626.0</td>\n",
       "      <td>18760.0</td>\n",
       "      <td>7.0</td>\n",
       "      <td>0.947245</td>\n",
       "      <td>0</td>\n",
       "      <td>0</td>\n",
       "      <td>0</td>\n",
       "      <td>1</td>\n",
       "    </tr>\n",
       "  </tbody>\n",
       "</table>\n",
       "</div>"
      ],
      "text/plain": [
       "       property_tax_value  total_square_feet  lot_square_feet  room_count  \\\n",
       "30994            133147.0             1134.0          60009.0         5.0   \n",
       "25639            608536.0             2490.0           7808.0         9.0   \n",
       "65786            456354.0             1411.0           6250.0         4.0   \n",
       "20824            501370.0             2350.0           6886.0         8.0   \n",
       "66654            913724.0             2626.0          18760.0         7.0   \n",
       "\n",
       "       logerror  Cluster_0  Cluster_1  Cluster_2  Cluster_3  \n",
       "30994 -0.161035          1          0          0          0  \n",
       "25639  0.003467          0          0          0          1  \n",
       "65786  0.006034          0          1          0          0  \n",
       "20824  0.025436          0          0          0          1  \n",
       "66654  0.947245          0          0          0          1  "
      ]
     },
     "execution_count": 177,
     "metadata": {},
     "output_type": "execute_result"
    }
   ],
   "source": [
    "train_m1.head()"
   ]
  },
  {
   "cell_type": "code",
   "execution_count": 182,
   "metadata": {},
   "outputs": [],
   "source": [
    "X_train = train_m1.drop(columns='logerror')\n",
    "y_train = train[['logerror']]"
   ]
  },
  {
   "cell_type": "code",
   "execution_count": 183,
   "metadata": {},
   "outputs": [],
   "source": [
    "lm = LinearRegression(normalize=True)\n",
    "lm.fit(X_train, y_train)\n",
    "y_train['model_1_pred'] = lm.predict(X_train)"
   ]
  },
  {
   "cell_type": "code",
   "execution_count": 184,
   "metadata": {},
   "outputs": [
    {
     "data": {
      "text/html": [
       "<div>\n",
       "<style scoped>\n",
       "    .dataframe tbody tr th:only-of-type {\n",
       "        vertical-align: middle;\n",
       "    }\n",
       "\n",
       "    .dataframe tbody tr th {\n",
       "        vertical-align: top;\n",
       "    }\n",
       "\n",
       "    .dataframe thead th {\n",
       "        text-align: right;\n",
       "    }\n",
       "</style>\n",
       "<table border=\"1\" class=\"dataframe\">\n",
       "  <thead>\n",
       "    <tr style=\"text-align: right;\">\n",
       "      <th></th>\n",
       "      <th>logerror</th>\n",
       "      <th>model_one_pred</th>\n",
       "    </tr>\n",
       "  </thead>\n",
       "  <tbody>\n",
       "    <tr>\n",
       "      <th>30994</th>\n",
       "      <td>-0.161035</td>\n",
       "      <td>0.014970</td>\n",
       "    </tr>\n",
       "    <tr>\n",
       "      <th>25639</th>\n",
       "      <td>0.003467</td>\n",
       "      <td>0.016908</td>\n",
       "    </tr>\n",
       "    <tr>\n",
       "      <th>65786</th>\n",
       "      <td>0.006034</td>\n",
       "      <td>0.013050</td>\n",
       "    </tr>\n",
       "    <tr>\n",
       "      <th>20824</th>\n",
       "      <td>0.025436</td>\n",
       "      <td>0.018803</td>\n",
       "    </tr>\n",
       "    <tr>\n",
       "      <th>66654</th>\n",
       "      <td>0.947245</td>\n",
       "      <td>0.019129</td>\n",
       "    </tr>\n",
       "  </tbody>\n",
       "</table>\n",
       "</div>"
      ],
      "text/plain": [
       "       logerror  model_one_pred\n",
       "30994 -0.161035        0.014970\n",
       "25639  0.003467        0.016908\n",
       "65786  0.006034        0.013050\n",
       "20824  0.025436        0.018803\n",
       "66654  0.947245        0.019129"
      ]
     },
     "execution_count": 184,
     "metadata": {},
     "output_type": "execute_result"
    }
   ],
   "source": [
    "y_train.head()"
   ]
  },
  {
   "cell_type": "code",
   "execution_count": 185,
   "metadata": {},
   "outputs": [
    {
     "name": "stdout",
     "output_type": "stream",
     "text": [
      "RMSE for Model 1 Linear Regression: 0.16661838936540616\n"
     ]
    }
   ],
   "source": [
    "rmse_m1 = mean_squared_error(y_train.logerror, y_train.model_1_pred)**(1/2)\n",
    "print(f'RMSE for Model 1 Linear Regression: {rmse_m1}')"
   ]
  },
  {
   "cell_type": "markdown",
   "metadata": {},
   "source": [
    "This model is ever so slightly better than the baseline by .0002"
   ]
  },
  {
   "cell_type": "markdown",
   "metadata": {},
   "source": [
    "### Model 2 (All Features No Clusters)"
   ]
  },
  {
   "cell_type": "code",
   "execution_count": 193,
   "metadata": {},
   "outputs": [],
   "source": [
    "X_train2 = train_scaled.drop(columns='logerror')\n",
    "y_train2 = train[['logerror']]"
   ]
  },
  {
   "cell_type": "code",
   "execution_count": 194,
   "metadata": {},
   "outputs": [],
   "source": [
    "lm2 = LinearRegression(normalize=True)\n",
    "lm2.fit(X_train2, y_train2)\n",
    "y_train2['model_2_pred'] = lm2.predict(X_train2)"
   ]
  },
  {
   "cell_type": "code",
   "execution_count": 195,
   "metadata": {},
   "outputs": [
    {
     "data": {
      "text/html": [
       "<div>\n",
       "<style scoped>\n",
       "    .dataframe tbody tr th:only-of-type {\n",
       "        vertical-align: middle;\n",
       "    }\n",
       "\n",
       "    .dataframe tbody tr th {\n",
       "        vertical-align: top;\n",
       "    }\n",
       "\n",
       "    .dataframe thead th {\n",
       "        text-align: right;\n",
       "    }\n",
       "</style>\n",
       "<table border=\"1\" class=\"dataframe\">\n",
       "  <thead>\n",
       "    <tr style=\"text-align: right;\">\n",
       "      <th></th>\n",
       "      <th>logerror</th>\n",
       "      <th>model_two_pred</th>\n",
       "    </tr>\n",
       "  </thead>\n",
       "  <tbody>\n",
       "    <tr>\n",
       "      <th>30994</th>\n",
       "      <td>-0.161035</td>\n",
       "      <td>0.014465</td>\n",
       "    </tr>\n",
       "    <tr>\n",
       "      <th>25639</th>\n",
       "      <td>0.003467</td>\n",
       "      <td>0.020319</td>\n",
       "    </tr>\n",
       "    <tr>\n",
       "      <th>65786</th>\n",
       "      <td>0.006034</td>\n",
       "      <td>0.013378</td>\n",
       "    </tr>\n",
       "    <tr>\n",
       "      <th>20824</th>\n",
       "      <td>0.025436</td>\n",
       "      <td>0.020464</td>\n",
       "    </tr>\n",
       "    <tr>\n",
       "      <th>66654</th>\n",
       "      <td>0.947245</td>\n",
       "      <td>0.019973</td>\n",
       "    </tr>\n",
       "  </tbody>\n",
       "</table>\n",
       "</div>"
      ],
      "text/plain": [
       "       logerror  model_two_pred\n",
       "30994 -0.161035        0.014465\n",
       "25639  0.003467        0.020319\n",
       "65786  0.006034        0.013378\n",
       "20824  0.025436        0.020464\n",
       "66654  0.947245        0.019973"
      ]
     },
     "execution_count": 195,
     "metadata": {},
     "output_type": "execute_result"
    }
   ],
   "source": [
    "y_train2.head()"
   ]
  },
  {
   "cell_type": "code",
   "execution_count": 196,
   "metadata": {},
   "outputs": [
    {
     "name": "stdout",
     "output_type": "stream",
     "text": [
      "RMSE for Model 2 Linear Regression: 0.16664409173293354\n"
     ]
    }
   ],
   "source": [
    "rmse_m2 = mean_squared_error(y_train2.logerror, y_train2.model_2_pred)**(1/2)\n",
    "print(f'RMSE for Model 2 Linear Regression: {rmse_m2}')"
   ]
  },
  {
   "cell_type": "markdown",
   "metadata": {},
   "source": [
    "Model 2 also performed better than the baseline but did basically the same as model 1."
   ]
  },
  {
   "cell_type": "markdown",
   "metadata": {},
   "source": [
    "### Model 3 (All Features No Clusters Lasso Lars)"
   ]
  },
  {
   "cell_type": "code",
   "execution_count": 198,
   "metadata": {},
   "outputs": [
    {
     "name": "stdout",
     "output_type": "stream",
     "text": [
      "RMSE for Model 3 Lasso Lars: 0.1668251137508384\n"
     ]
    }
   ],
   "source": [
    "X_train3 = train_scaled.drop(columns='logerror')\n",
    "y_train3 = train[['logerror']]\n",
    "\n",
    "lars = LassoLars(alpha=1.0)\n",
    "lars.fit(X_train3, y_train3.logerror)\n",
    "y_train3['model_3_pred'] = lars.predict(X_train3)\n",
    "\n",
    "rmse_m3 = mean_squared_error(y_train3.logerror, y_train3.model_3_pred)**(1/2)\n",
    "print(f'RMSE for Model 3 Lasso Lars: {rmse_m3}')"
   ]
  },
  {
   "cell_type": "markdown",
   "metadata": {},
   "source": [
    "After making these models we will be moving forwards into validation."
   ]
  },
  {
   "cell_type": "markdown",
   "metadata": {},
   "source": [
    "# Validation"
   ]
  },
  {
   "cell_type": "markdown",
   "metadata": {},
   "source": [
    "### Model 1 Validation"
   ]
  },
  {
   "cell_type": "code",
   "execution_count": 199,
   "metadata": {},
   "outputs": [],
   "source": [
    "validate_m1 = validate.copy()\n",
    "x_clustered1 = validate_scaled[['total_square_feet', 'room_count']]\n",
    "\n",
    "kmeans1 = KMeans(n_clusters = 4)\n",
    "\n",
    "kmeans1.fit(x_clustered1)\n",
    "kmeans1.predict(x_clustered1)\n",
    "validate_m1['clusters'] = kmeans1.predict(x_clustered1)"
   ]
  },
  {
   "cell_type": "code",
   "execution_count": 201,
   "metadata": {},
   "outputs": [],
   "source": [
    "dummy_df = pd.get_dummies(validate_m1['clusters'], drop_first=False)\n",
    "dummy_df = dummy_df.rename(columns={0: 'Cluster_0', 1: 'Cluster_1', 2: 'Cluster_2', 3: 'Cluster_3'})"
   ]
  },
  {
   "cell_type": "code",
   "execution_count": 202,
   "metadata": {},
   "outputs": [],
   "source": [
    "validate_m1 = pd.concat([validate_m1, dummy_df], axis=1)\n",
    "validate_m1 = validate_m1.drop(columns='clusters')"
   ]
  },
  {
   "cell_type": "code",
   "execution_count": 203,
   "metadata": {},
   "outputs": [],
   "source": [
    "X_validate = validate_m1.drop(columns='logerror')\n",
    "y_validate = validate[['logerror']]"
   ]
  },
  {
   "cell_type": "code",
   "execution_count": 204,
   "metadata": {},
   "outputs": [
    {
     "name": "stdout",
     "output_type": "stream",
     "text": [
      "RMSE for Model 1 Linear Regression: 0.17956665728569363\n"
     ]
    }
   ],
   "source": [
    "lm = LinearRegression(normalize=True)\n",
    "lm.fit(X_validate, y_validate)\n",
    "y_validate['model_1_pred'] = lm.predict(X_validate)\n",
    "\n",
    "rmse_v1 = mean_squared_error(y_validate.logerror, y_validate.model_1_pred)**(1/2)\n",
    "print(f'RMSE for Model 1 Linear Regression: {rmse_v1}')"
   ]
  },
  {
   "cell_type": "markdown",
   "metadata": {},
   "source": [
    "### Model 2 Validation"
   ]
  },
  {
   "cell_type": "code",
   "execution_count": 205,
   "metadata": {},
   "outputs": [
    {
     "name": "stdout",
     "output_type": "stream",
     "text": [
      "RMSE for Model 2 Linear Regression: 0.1795993855308729\n"
     ]
    }
   ],
   "source": [
    "X_validate2 = validate_scaled.drop(columns='logerror')\n",
    "y_validate2 = validate[['logerror']]\n",
    "\n",
    "lm2 = LinearRegression(normalize=True)\n",
    "lm2.fit(X_validate2, y_validate2)\n",
    "y_validate2['model_2_pred'] = lm2.predict(X_validate2)\n",
    "\n",
    "rmse_v2 = mean_squared_error(y_validate2.logerror, y_validate2.model_2_pred)**(1/2)\n",
    "print(f'RMSE for Model 2 Linear Regression: {rmse_v2}')"
   ]
  },
  {
   "cell_type": "markdown",
   "metadata": {},
   "source": [
    "### Model 3 Validation"
   ]
  },
  {
   "cell_type": "code",
   "execution_count": 206,
   "metadata": {},
   "outputs": [
    {
     "name": "stdout",
     "output_type": "stream",
     "text": [
      "RMSE for Model 3 Lasso Lars: 0.17981224568409765\n"
     ]
    }
   ],
   "source": [
    "X_validate3 = validate_scaled.drop(columns='logerror')\n",
    "y_validate3 = validate[['logerror']]\n",
    "\n",
    "lars = LassoLars(alpha=1.0)\n",
    "lars.fit(X_validate3, y_validate3.logerror)\n",
    "y_validate3['model_3_pred'] = lars.predict(X_validate3)\n",
    "\n",
    "rmse_m3 = mean_squared_error(y_validate3.logerror, y_validate3.model_3_pred)**(1/2)\n",
    "print(f'RMSE for Model 3 Lasso Lars: {rmse_m3}')"
   ]
  },
  {
   "cell_type": "code",
   "execution_count": null,
   "metadata": {},
   "outputs": [],
   "source": []
  }
 ],
 "metadata": {
  "kernelspec": {
   "display_name": "Python 3",
   "language": "python",
   "name": "python3"
  },
  "language_info": {
   "codemirror_mode": {
    "name": "ipython",
    "version": 3
   },
   "file_extension": ".py",
   "mimetype": "text/x-python",
   "name": "python",
   "nbconvert_exporter": "python",
   "pygments_lexer": "ipython3",
   "version": "3.7.6"
  }
 },
 "nbformat": 4,
 "nbformat_minor": 4
}
